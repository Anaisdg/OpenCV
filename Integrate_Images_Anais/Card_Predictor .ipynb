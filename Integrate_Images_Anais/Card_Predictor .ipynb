{
 "cells": [
  {
   "cell_type": "code",
   "execution_count": 1,
   "metadata": {},
   "outputs": [
    {
     "name": "stderr",
     "output_type": "stream",
     "text": [
      "/Users/anais/miniconda3/lib/python3.6/site-packages/h5py/__init__.py:36: FutureWarning: Conversion of the second argument of issubdtype from `float` to `np.floating` is deprecated. In future, it will be treated as `np.float64 == np.dtype(float).type`.\n",
      "  from ._conv import register_converters as _register_converters\n",
      "Using TensorFlow backend.\n"
     ]
    }
   ],
   "source": [
    "import keras\n",
    "from keras.preprocessing import image\n",
    "from keras.applications.xception import (Xception, preprocess_input, decode_predictions)\n",
    "from keras import models \n",
    "from keras.models import load_model\n",
    "from keras.models import Sequential\n",
    "from keras.layers import Conv2D, MaxPooling2D\n",
    "from keras.layers import Activation, Dropout, Flatten, Dense\n",
    "\n",
    "import matplotlib.pyplot as plt\n",
    "\n",
    "# import cv2\n",
    "from PIL import Image\n",
    "\n",
    "import numpy as np\n",
    "\n",
    "import os\n",
    "from os import listdir"
   ]
  },
  {
   "cell_type": "code",
   "execution_count": 2,
   "metadata": {},
   "outputs": [],
   "source": [
    "class_list = ['1DGE', '1DGF', '1DGS',\n",
    " '1DPE',\n",
    " '1DPF',\n",
    " '1DPS',\n",
    " '1DRE',\n",
    " '1DRF',\n",
    " '1DRS',\n",
    " '1OGE',\n",
    " '1OGF',\n",
    " '1OGS',\n",
    " '1OPE',\n",
    " '1OPF',\n",
    " '1OPS',\n",
    " '1ORE',\n",
    " '1ORF',\n",
    " '1ORS',\n",
    " '1SGE',\n",
    " '1SGF',\n",
    " '1SGS',\n",
    " '1SPE',\n",
    " '1SPF',\n",
    " '1SPS',\n",
    " '1SRE',\n",
    " '1SRF',\n",
    " '1SRS',\n",
    " '2DGE',\n",
    " '2DGF',\n",
    " '2DGS',\n",
    " '2DPE',\n",
    " '2DPF',\n",
    " '2DPS',\n",
    " '2DRE',\n",
    " '2DRF',\n",
    " '2DRS',\n",
    " '2OGE',\n",
    " '2OGF',\n",
    " '2OGS',\n",
    " '2OPE',\n",
    " '2OPF',\n",
    " '2OPS',\n",
    " '2ORE',\n",
    " '2ORF',\n",
    " '2ORS',\n",
    " '2SGE',\n",
    " '2SGF',\n",
    " '2SGS',\n",
    " '2SPE',\n",
    " '2SPF',\n",
    " '2SPS',\n",
    " '2SRE',\n",
    " '2SRF',\n",
    " '2SRS',\n",
    " '3DGE',\n",
    " '3DGF',\n",
    " '3DGS',\n",
    " '3DPE',\n",
    " '3DPF',\n",
    " '3DPS',\n",
    " '3DRE',\n",
    " '3DRF',\n",
    " '3DRS',\n",
    " '3OGE',\n",
    " '3OGF',\n",
    " '3OGS',\n",
    " '3OPE',\n",
    " '3OPF',\n",
    " '3OPS',\n",
    " '3ORE',\n",
    " '3ORF',\n",
    " '3ORS',\n",
    " '3SGE',\n",
    " '3SGF',\n",
    " '3SGS',\n",
    " '3SPE',\n",
    " '3SPF',\n",
    " '3SPS',\n",
    " '3SRE',\n",
    " '3SRF',\n",
    " '3SRS']"
   ]
  },
  {
   "cell_type": "code",
   "execution_count": 3,
   "metadata": {},
   "outputs": [],
   "source": [
    "image_path= 'static/images/cropped/test3.png'\n",
    "model_path = 'static/model/final.h5'\n",
    "image_size = (150, 150)\n",
    "folderpath = 'static/images/cropped'"
   ]
  },
  {
   "cell_type": "code",
   "execution_count": 4,
   "metadata": {},
   "outputs": [],
   "source": [
    "model = Sequential()\n",
    "model.add(Conv2D(32, (3, 3), input_shape=(150, 150, 3)))\n",
    "model.add(Activation('relu'))\n",
    "model.add(MaxPooling2D(pool_size=(2, 2)))\n",
    "\n",
    "model.add(Conv2D(32, (3, 3)))\n",
    "model.add(Activation('relu'))\n",
    "model.add(MaxPooling2D(pool_size=(2, 2)))\n",
    "\n",
    "model.add(Conv2D(64, (3, 3)))\n",
    "model.add(Activation('relu'))\n",
    "model.add(MaxPooling2D(pool_size=(2, 2)))\n",
    "\n",
    "model.add(Flatten())\n",
    "model.add(Dense(64))\n",
    "model.add(Activation('relu'))\n",
    "model.add(Dropout(0.5))\n",
    "model.add(Dense(81))\n",
    "model.add(Activation('softmax'))\n",
    "\n",
    "model.compile(loss='categorical_crossentropy',\n",
    "              optimizer='adam',\n",
    "              metrics=['accuracy'])\n",
    "\n",
    "model.load_weights(model_path)"
   ]
  },
  {
   "cell_type": "code",
   "execution_count": 5,
   "metadata": {},
   "outputs": [],
   "source": [
    "def predictor(image_path):\n",
    "    \n",
    "    img = image.load_img(image_path, target_size=image_size)\n",
    "    x = image.img_to_array(img)\n",
    "    # print(x.shape)\n",
    "    x = np.expand_dims(x, axis=0)\n",
    "    x = preprocess_input(x)\n",
    "    predictions = model.predict(x)\n",
    "    # print(max(predictions[0]))\n",
    "    list_a = predictions[0]\n",
    "    list_b = class_list\n",
    "    zip_test = list(zip(list_a, list_b))\n",
    "    \n",
    "    return max(zip_test)"
   ]
  },
  {
   "cell_type": "code",
   "execution_count": 6,
   "metadata": {},
   "outputs": [],
   "source": [
    "def find_cropped_images(folderpath):\n",
    "    return [folderpath + '/' + v for v in os.listdir(folderpath) if v != '.DS_Store']"
   ]
  },
  {
   "cell_type": "code",
   "execution_count": 7,
   "metadata": {},
   "outputs": [
    {
     "data": {
      "text/plain": [
       "['static/images/cropped/test.png',\n",
       " 'static/images/cropped/test10.png',\n",
       " 'static/images/cropped/test11.png',\n",
       " 'static/images/cropped/test12.png',\n",
       " 'static/images/cropped/test2.png',\n",
       " 'static/images/cropped/test3.png',\n",
       " 'static/images/cropped/test4.png',\n",
       " 'static/images/cropped/test5.png',\n",
       " 'static/images/cropped/test6.png',\n",
       " 'static/images/cropped/test7.png',\n",
       " 'static/images/cropped/test8.png',\n",
       " 'static/images/cropped/test9.png']"
      ]
     },
     "execution_count": 7,
     "metadata": {},
     "output_type": "execute_result"
    }
   ],
   "source": [
    "find_cropped_images(folderpath)"
   ]
  },
  {
   "cell_type": "code",
   "execution_count": 8,
   "metadata": {},
   "outputs": [],
   "source": [
    "prediction_tuples = [predictor(png) for png in find_cropped_images(folderpath)]"
   ]
  },
  {
   "cell_type": "code",
   "execution_count": 9,
   "metadata": {},
   "outputs": [
    {
     "data": {
      "text/plain": [
       "[(0.829691, '3DPE'),\n",
       " (0.6058629, '3DPS'),\n",
       " (0.8519651, '2ORF'),\n",
       " (0.7429068, '3OPE'),\n",
       " (0.49834728, '1SGS'),\n",
       " (0.6321677, '2OPF'),\n",
       " (0.8696189, '1SGF'),\n",
       " (0.43739784, '3OPE'),\n",
       " (0.98763055, '2ORF'),\n",
       " (0.4382572, '3OPS'),\n",
       " (0.5274945, '1SGE'),\n",
       " (0.885067, '3SRS')]"
      ]
     },
     "execution_count": 9,
     "metadata": {},
     "output_type": "execute_result"
    }
   ],
   "source": [
    "prediction_tuples"
   ]
  },
  {
   "cell_type": "code",
   "execution_count": 10,
   "metadata": {},
   "outputs": [],
   "source": [
    "def prediction_tuples():\n",
    "    predictions = [predictor(png) for png in find_cropped_images(folderpath)]\n",
    "    return predictions"
   ]
  },
  {
   "cell_type": "code",
   "execution_count": 11,
   "metadata": {},
   "outputs": [
    {
     "data": {
      "text/plain": [
       "[(0.829691, '3DPE'),\n",
       " (0.6058629, '3DPS'),\n",
       " (0.8519651, '2ORF'),\n",
       " (0.7429068, '3OPE'),\n",
       " (0.49834728, '1SGS'),\n",
       " (0.6321677, '2OPF'),\n",
       " (0.8696189, '1SGF'),\n",
       " (0.43739784, '3OPE'),\n",
       " (0.98763055, '2ORF'),\n",
       " (0.4382572, '3OPS'),\n",
       " (0.5274945, '1SGE'),\n",
       " (0.885067, '3SRS')]"
      ]
     },
     "execution_count": 11,
     "metadata": {},
     "output_type": "execute_result"
    }
   ],
   "source": [
    "prediction_tuples()"
   ]
  },
  {
   "cell_type": "code",
   "execution_count": 34,
   "metadata": {},
   "outputs": [],
   "source": [
    "test_serializable = prediction_tuples()"
   ]
  },
  {
   "cell_type": "code",
   "execution_count": 35,
   "metadata": {},
   "outputs": [],
   "source": [
    "import pandas as pd\n",
    "test = pd.Series(test_serializable).to_json(orient='values')"
   ]
  },
  {
   "cell_type": "code",
   "execution_count": 36,
   "metadata": {},
   "outputs": [
    {
     "data": {
      "text/plain": [
       "'[[0.4397166371,\"3OGS\"],[0.1995119601,\"3ORF\"],[0.6648430228,\"3ORF\"],[0.3723426461,\"3OPS\"],[0.2247031033,\"2SGF\"],[0.5251312256,\"3ORF\"],[0.3840506077,\"2SGF\"],[0.3680585921,\"1SPE\"],[0.8400274515,\"2DRF\"],[0.4098587632,\"3DPE\"],[0.3719320893,\"2DGE\"],[0.2963016033,\"3ORS\"]]'"
      ]
     },
     "execution_count": 36,
     "metadata": {},
     "output_type": "execute_result"
    }
   ],
   "source": [
    "test"
   ]
  },
  {
   "cell_type": "code",
   "execution_count": 39,
   "metadata": {},
   "outputs": [],
   "source": [
    "def show_images(image_path):\n",
    "    img = image.load_img(image_path, target_size=image_size)\n",
    "    return plt.imshow(img)"
   ]
  },
  {
   "cell_type": "code",
   "execution_count": 44,
   "metadata": {},
   "outputs": [
    {
     "data": {
      "image/png": "[encoded data removed]",
      "text/plain": [
       "<Figure size 432x288 with 1 Axes>"
      ]
     },
     "metadata": {},
     "output_type": "display_data"
    }
   ],
   "source": [
    "for image_path in find_cropped_images(folderpath):\n",
    "    img = image.load_img(image_path, target_size=image_size)\n",
    "    plt.imshow(img)\n",
    "    "
   ]
  },
  {
   "cell_type": "code",
   "execution_count": 71,
   "metadata": {},
   "outputs": [],
   "source": [
    "def loadImages(imagepath):\n",
    "    # return array of images\n",
    "\n",
    "    imagesList = imagepath\n",
    "    loadedImages = []\n",
    "    for image in imagesList:\n",
    "        img = Image.open(image)\n",
    "        loadedImages.append(img)\n",
    "\n",
    "    return loadedImages"
   ]
  },
  {
   "cell_type": "code",
   "execution_count": 77,
   "metadata": {},
   "outputs": [
    {
     "data": {
      "text/plain": [
       "[<PIL.PngImagePlugin.PngImageFile image mode=RGBA size=667x708 at 0x118882518>,\n",
       " <PIL.PngImagePlugin.PngImageFile image mode=RGBA size=73x48 at 0x118882588>,\n",
       " <PIL.PngImagePlugin.PngImageFile image mode=RGBA size=71x49 at 0x118882438>,\n",
       " <PIL.PngImagePlugin.PngImageFile image mode=RGBA size=70x47 at 0x1188822E8>,\n",
       " <PIL.PngImagePlugin.PngImageFile image mode=RGBA size=70x47 at 0x1039377F0>,\n",
       " <PIL.PngImagePlugin.PngImageFile image mode=RGBA size=69x48 at 0x11889FA90>,\n",
       " <PIL.PngImagePlugin.PngImageFile image mode=RGBA size=74x49 at 0x1188B0208>,\n",
       " <PIL.PngImagePlugin.PngImageFile image mode=RGBA size=72x47 at 0x1188B02B0>,\n",
       " <PIL.PngImagePlugin.PngImageFile image mode=RGBA size=70x46 at 0x118937908>,\n",
       " <PIL.PngImagePlugin.PngImageFile image mode=RGBA size=70x47 at 0x118937A90>,\n",
       " <PIL.PngImagePlugin.PngImageFile image mode=RGBA size=69x48 at 0x1187D36A0>,\n",
       " <PIL.PngImagePlugin.PngImageFile image mode=RGBA size=73x48 at 0x118937B38>]"
      ]
     },
     "execution_count": 77,
     "metadata": {},
     "output_type": "execute_result"
    }
   ],
   "source": [
    "imgs = loadImages(find_cropped_images(folderpath))\n",
    "imgs"
   ]
  },
  {
   "cell_type": "code",
   "execution_count": 74,
   "metadata": {},
   "outputs": [],
   "source": [
    "for img in imgs:\n",
    "    # you can show every image\n",
    "    img.show()"
   ]
  },
  {
   "cell_type": "code",
   "execution_count": 76,
   "metadata": {},
   "outputs": [
    {
     "name": "stdout",
     "output_type": "stream",
     "text": [
      "(708, 667, 4)\n",
      "uint8\n"
     ]
    }
   ],
   "source": [
    "import glob\n",
    "import imageio\n",
    "\n",
    "for image_path in glob.glob('static/images/cropped/test.png'):\n",
    "    im = imageio.imread(image_path)\n",
    "    print (im.shape)\n",
    "    print (im.dtype)"
   ]
  },
  {
   "cell_type": "code",
   "execution_count": 78,
   "metadata": {},
   "outputs": [
    {
     "data": {
      "text/plain": [
       "range(1, 12)"
      ]
     },
     "execution_count": 78,
     "metadata": {},
     "output_type": "execute_result"
    }
   ],
   "source": [
    "testrange = range(0,13)\n",
    "testrange"
   ]
  },
  {
   "cell_type": "code",
   "execution_count": 79,
   "metadata": {},
   "outputs": [
    {
     "data": {
      "text/plain": [
       "range(1, 12)"
      ]
     },
     "execution_count": 79,
     "metadata": {},
     "output_type": "execute_result"
    }
   ],
   "source": [
    "range(1,12)"
   ]
  },
  {
   "cell_type": "code",
   "execution_count": 83,
   "metadata": {},
   "outputs": [
    {
     "data": {
      "text/plain": [
       "[0, 1, 2, 3, 4, 5, 6, 7, 8, 9, 10, 11]"
      ]
     },
     "execution_count": 83,
     "metadata": {},
     "output_type": "execute_result"
    }
   ],
   "source": [
    "list(range(0,12))"
   ]
  },
  {
   "cell_type": "code",
   "execution_count": null,
   "metadata": {},
   "outputs": [],
   "source": []
  }
 ],
 "metadata": {
  "kernelspec": {
   "display_name": "Python 3",
   "language": "python",
   "name": "python3"
  },
  "language_info": {
   "codemirror_mode": {
    "name": "ipython",
    "version": 3
   },
   "file_extension": ".py",
   "mimetype": "text/x-python",
   "name": "python",
   "nbconvert_exporter": "python",
   "pygments_lexer": "ipython3",
   "version": "3.6.4"
  }
 },
 "nbformat": 4,
 "nbformat_minor": 2
}
