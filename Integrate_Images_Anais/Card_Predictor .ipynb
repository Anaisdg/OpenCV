{
 "cells": [
  {
   "cell_type": "code",
   "execution_count": 43,
   "metadata": {},
   "outputs": [],
   "source": [
    "import keras\n",
    "from keras.preprocessing import image\n",
    "from keras.applications.xception import (Xception, preprocess_input, decode_predictions)\n",
    "from keras import models \n",
    "from keras.models import load_model\n",
    "from keras.models import Sequential\n",
    "from keras.layers import Conv2D, MaxPooling2D\n",
    "from keras.layers import Activation, Dropout, Flatten, Dense\n",
    "\n",
    "# import cv2\n",
    "# from PIL import Image\n",
    "\n",
    "import numpy as np\n",
    "\n",
    "# import os"
   ]
  },
  {
   "cell_type": "code",
   "execution_count": 44,
   "metadata": {},
   "outputs": [
    {
     "data": {
      "text/plain": [
       "['1DGE',\n",
       " '1DGF',\n",
       " '1DGS',\n",
       " '1DPE',\n",
       " '1DPF',\n",
       " '1DPS',\n",
       " '1DRE',\n",
       " '1DRF',\n",
       " '1DRS',\n",
       " '1OGE',\n",
       " '1OGF',\n",
       " '1OGS',\n",
       " '1OPE',\n",
       " '1OPF',\n",
       " '1OPS',\n",
       " '1ORE',\n",
       " '1ORF',\n",
       " '1ORS',\n",
       " '1SGE',\n",
       " '1SGF',\n",
       " '1SGS',\n",
       " '1SPE',\n",
       " '1SPF',\n",
       " '1SPS',\n",
       " '1SRE',\n",
       " '1SRF',\n",
       " '1SRS',\n",
       " '2DGE',\n",
       " '2DGF',\n",
       " '2DGS',\n",
       " '2DPE',\n",
       " '2DPF',\n",
       " '2DPS',\n",
       " '2DRE',\n",
       " '2DRF',\n",
       " '2DRS',\n",
       " '2OGE',\n",
       " '2OGF',\n",
       " '2OGS',\n",
       " '2OPE',\n",
       " '2OPF',\n",
       " '2OPS',\n",
       " '2ORE',\n",
       " '2ORF',\n",
       " '2ORS',\n",
       " '2SGE',\n",
       " '2SGF',\n",
       " '2SGS',\n",
       " '2SPE',\n",
       " '2SPF',\n",
       " '2SPS',\n",
       " '2SRE',\n",
       " '2SRF',\n",
       " '2SRS',\n",
       " '3DGE',\n",
       " '3DGF',\n",
       " '3DGS',\n",
       " '3DPE',\n",
       " '3DPF',\n",
       " '3DPS',\n",
       " '3DRE',\n",
       " '3DRF',\n",
       " '3DRS',\n",
       " '3OGE',\n",
       " '3OGF',\n",
       " '3OGS',\n",
       " '3OPE',\n",
       " '3OPF',\n",
       " '3OPS',\n",
       " '3ORE',\n",
       " '3ORF',\n",
       " '3ORS',\n",
       " '3SGE',\n",
       " '3SGF',\n",
       " '3SGS',\n",
       " '3SPE',\n",
       " '3SPF',\n",
       " '3SPS',\n",
       " '3SRE',\n",
       " '3SRF',\n",
       " '3SRS']"
      ]
     },
     "execution_count": 44,
     "metadata": {},
     "output_type": "execute_result"
    }
   ],
   "source": [
    "class_list"
   ]
  },
  {
   "cell_type": "code",
   "execution_count": 45,
   "metadata": {},
   "outputs": [],
   "source": [
    "image_path= 'static/images/cropped/test3.png'\n",
    "model_path = 'static/model/first_try.h5'\n",
    "image_size = (150, 150)\n",
    "folderpath = 'static/images/cropped'"
   ]
  },
  {
   "cell_type": "code",
   "execution_count": 46,
   "metadata": {},
   "outputs": [],
   "source": [
    "model = Sequential()\n",
    "model.add(Conv2D(32, (3, 3), input_shape=(150, 150, 3)))\n",
    "model.add(Activation('relu'))\n",
    "model.add(MaxPooling2D(pool_size=(2, 2)))\n",
    "\n",
    "model.add(Conv2D(32, (3, 3)))\n",
    "model.add(Activation('relu'))\n",
    "model.add(MaxPooling2D(pool_size=(2, 2)))\n",
    "\n",
    "model.add(Conv2D(64, (3, 3)))\n",
    "model.add(Activation('relu'))\n",
    "model.add(MaxPooling2D(pool_size=(2, 2)))\n",
    "\n",
    "model.add(Flatten())\n",
    "model.add(Dense(64))\n",
    "model.add(Activation('relu'))\n",
    "model.add(Dropout(0.5))\n",
    "model.add(Dense(81))\n",
    "model.add(Activation('softmax'))\n",
    "\n",
    "model.compile(loss='categorical_crossentropy',\n",
    "              optimizer='adam',\n",
    "              metrics=['accuracy'])\n",
    "\n",
    "model.load_weights(model_path)"
   ]
  },
  {
   "cell_type": "code",
   "execution_count": 47,
   "metadata": {},
   "outputs": [],
   "source": [
    "def predictor(image_path):\n",
    "    \n",
    "    img = image.load_img(image_path, target_size=image_size)\n",
    "    x = image.img_to_array(img)\n",
    "    # print(x.shape)\n",
    "    x = np.expand_dims(x, axis=0)\n",
    "    x = preprocess_input(x)\n",
    "    predictions = model.predict(x)\n",
    "    # print(max(predictions[0]))\n",
    "    list_a = predictions[0]\n",
    "    list_b = class_list\n",
    "    zip_test = list(zip(list_a, list_b))\n",
    "    \n",
    "    return max(zip_test)"
   ]
  },
  {
   "cell_type": "code",
   "execution_count": 48,
   "metadata": {},
   "outputs": [],
   "source": [
    "def find_cropped_images(folderpath):\n",
    "    return [folderpath + '/' + v for v in os.listdir(folderpath) if v != '.DS_Store']"
   ]
  },
  {
   "cell_type": "code",
   "execution_count": 49,
   "metadata": {},
   "outputs": [
    {
     "data": {
      "text/plain": [
       "['static/images/cropped/test.png',\n",
       " 'static/images/cropped/test10.png',\n",
       " 'static/images/cropped/test11.png',\n",
       " 'static/images/cropped/test12.png',\n",
       " 'static/images/cropped/test2.png',\n",
       " 'static/images/cropped/test3.png',\n",
       " 'static/images/cropped/test4.png',\n",
       " 'static/images/cropped/test5.png',\n",
       " 'static/images/cropped/test6.png',\n",
       " 'static/images/cropped/test7.png',\n",
       " 'static/images/cropped/test8.png',\n",
       " 'static/images/cropped/test9.png']"
      ]
     },
     "execution_count": 49,
     "metadata": {},
     "output_type": "execute_result"
    }
   ],
   "source": [
    "find_cropped_images(folderpath)"
   ]
  },
  {
   "cell_type": "code",
   "execution_count": 51,
   "metadata": {},
   "outputs": [],
   "source": [
    "prediction_tuples = [predictor(png) for png in find_cropped_images(folderpath)]"
   ]
  },
  {
   "cell_type": "code",
   "execution_count": 52,
   "metadata": {},
   "outputs": [
    {
     "data": {
      "text/plain": [
       "[(0.43971664, '3OGS'),\n",
       " (0.19951196, '3ORF'),\n",
       " (0.664843, '3ORF'),\n",
       " (0.37234265, '3OPS'),\n",
       " (0.2247031, '2SGF'),\n",
       " (0.5251312, '3ORF'),\n",
       " (0.3840506, '2SGF'),\n",
       " (0.3680586, '1SPE'),\n",
       " (0.84002745, '2DRF'),\n",
       " (0.40985876, '3DPE'),\n",
       " (0.3719321, '2DGE'),\n",
       " (0.2963016, '3ORS')]"
      ]
     },
     "execution_count": 52,
     "metadata": {},
     "output_type": "execute_result"
    }
   ],
   "source": [
    "prediction_tuples"
   ]
  },
  {
   "cell_type": "code",
   "execution_count": 54,
   "metadata": {},
   "outputs": [],
   "source": [
    "def prediction_tuples():\n",
    "    predictions = [predictor(png) for png in find_cropped_images(folderpath)]\n",
    "    return predictions"
   ]
  },
  {
   "cell_type": "code",
   "execution_count": 55,
   "metadata": {},
   "outputs": [
    {
     "data": {
      "text/plain": [
       "[(0.43971664, '3OGS'),\n",
       " (0.19951196, '3ORF'),\n",
       " (0.664843, '3ORF'),\n",
       " (0.37234265, '3OPS'),\n",
       " (0.2247031, '2SGF'),\n",
       " (0.5251312, '3ORF'),\n",
       " (0.3840506, '2SGF'),\n",
       " (0.3680586, '1SPE'),\n",
       " (0.84002745, '2DRF'),\n",
       " (0.40985876, '3DPE'),\n",
       " (0.3719321, '2DGE'),\n",
       " (0.2963016, '3ORS')]"
      ]
     },
     "execution_count": 55,
     "metadata": {},
     "output_type": "execute_result"
    }
   ],
   "source": [
    "prediction_tuples()"
   ]
  },
  {
   "cell_type": "code",
   "execution_count": 56,
   "metadata": {},
   "outputs": [],
   "source": [
    "test_serializable = prediction_tuples()"
   ]
  },
  {
   "cell_type": "code",
   "execution_count": 58,
   "metadata": {},
   "outputs": [],
   "source": [
    "import pandas as pd\n",
    "test = pd.Series(test_serializable).to_json(orient='values')"
   ]
  },
  {
   "cell_type": "code",
   "execution_count": 59,
   "metadata": {},
   "outputs": [
    {
     "data": {
      "text/plain": [
       "'[[0.4397166371,\"3OGS\"],[0.1995119601,\"3ORF\"],[0.6648430228,\"3ORF\"],[0.3723426461,\"3OPS\"],[0.2247031033,\"2SGF\"],[0.5251312256,\"3ORF\"],[0.3840506077,\"2SGF\"],[0.3680585921,\"1SPE\"],[0.8400274515,\"2DRF\"],[0.4098587632,\"3DPE\"],[0.3719320893,\"2DGE\"],[0.2963016033,\"3ORS\"]]'"
      ]
     },
     "execution_count": 59,
     "metadata": {},
     "output_type": "execute_result"
    }
   ],
   "source": [
    "test"
   ]
  },
  {
   "cell_type": "code",
   "execution_count": null,
   "metadata": {},
   "outputs": [],
   "source": []
  }
 ],
 "metadata": {
  "kernelspec": {
   "display_name": "Python 3",
   "language": "python",
   "name": "python3"
  },
  "language_info": {
   "codemirror_mode": {
    "name": "ipython",
    "version": 3
   },
   "file_extension": ".py",
   "mimetype": "text/x-python",
   "name": "python",
   "nbconvert_exporter": "python",
   "pygments_lexer": "ipython3",
   "version": "3.6.4"
  }
 },
 "nbformat": 4,
 "nbformat_minor": 2
}
