{
 "cells": [
  {
   "cell_type": "code",
   "execution_count": 3,
   "metadata": {},
   "outputs": [],
   "source": [
    "import numpy as np\n",
    "import cv2 \n",
    "from matplotlib import pyplot as plt\n",
    "from mpl_toolkits.axes_grid1 import ImageGrid\n",
    "import math\n",
    "%matplotlib inline\n"
   ]
  },
  {
   "cell_type": "code",
   "execution_count": 8,
   "metadata": {},
   "outputs": [],
   "source": [
    "def ImageDetection(imagepath,numcards,imagename=\"defaultname\",epsilon=0.02):\n",
    "    \n",
    "      \n",
    "    contours = findContours(imagepath)\n",
    "    \n",
    "    perimeters = [cv2.arcLength(contours[i],True) for i in range(len(contours))]\n",
    "    print(perimeters)\n",
    "    listindex=[i for i in range(numcards) if perimeters[i]>perimeters[0]/2]\n",
    "    # Show image\n",
    "    imgcont = img.copy()\n",
    "    [cv2.drawContours(imgcont, [contours[i]], 0, (0,255,0), 5) for i in listindex]\n",
    "   \n",
    "    warp = list(range(numcards))\n",
    "    \n",
    "    for i in range(numcards):\n",
    "        card = contours[i]\n",
    "        peri = 0.02* cv2.arcLength(card,True)\n",
    "        approx = cv2.approxPolyDP(card,peri,True)\n",
    "        rect = cv2.minAreaRect(contours[i])\n",
    "        r = cv2.boxPoints(rect)\n",
    "\n",
    "        h = np.float32([[0,0],[399,0],[399,399],[0,399]])\n",
    "        approx = np.float32([item for sublist in approx for item in sublist])\n",
    "#         print(approx.shape)\n",
    "        transform = cv2.getPerspectiveTransform(approx,h)\n",
    "        warp[i] = cv2.warpPerspective(img,transform,(400,400))\n",
    "\n",
    "    # Show perspective correction\n",
    "    \n",
    "    fig = plt.figure(1, (10,10))\n",
    "    grid = ImageGrid(fig, 111, # similar to subplot(111)\n",
    "                    nrows_ncols = (4, 4), # creates 2x2 grid of axes\n",
    "                    axes_pad=0.1, # pad between axes in inch.\n",
    "                    aspect=True, # do not force aspect='equal'\n",
    "                    )\n",
    "    new_img_list = []\n",
    "    for i in range(numcards):\n",
    "        new_img = cv2.cvtColor(warp[i],cv2.COLOR_BGR2RGB)\n",
    "        new_img_list.append(new_img)\n",
    "        grid[i].imshow(new_img)\n",
    "        cv2.imwrite(f\"{imagename}{i}.jpg\",wrap[i])\n",
    "    print(\"Cropping Complete! Let's roll!\")\n",
    "    return new_img_list\n",
    "    \n",
    "\n",
    "\n",
    "\n",
    "def findContours():\n",
    "    img = cv2.imread(imagepath)\n",
    "    gray = cv2.cvtColor(img,cv2.COLOR_BGR2GRAY)  \n",
    "    blur_img = cv2.GaussianBlur(gray,(1,1),1000)   \n",
    "    flag, thresh = cv2.threshold(blur, 120, 255, cv2.THRESH_BINARY)  \n",
    "    image,contours, hierarchy = cv2.findContours(thresh,cv2.RETR_TREE,cv2.CHAIN_APPROX_SIMPLE)\n",
    "                     \n",
    "    return sorted(contours, key=cv2.contourArea,reverse = True)\n",
    "\n"
   ]
  },
  {
   "cell_type": "code",
   "execution_count": 10,
   "metadata": {},
   "outputs": [
    {
     "ename": "TypeError",
     "evalue": "ImageDetection() missing 1 required positional argument: 'numcards'",
     "output_type": "error",
     "traceback": [
      "\u001b[0;31m---------------------------------------------------------------------------\u001b[0m",
      "\u001b[0;31mTypeError\u001b[0m                                 Traceback (most recent call last)",
      "\u001b[0;32m<ipython-input-10-cab45a867187>\u001b[0m in \u001b[0;36m<module>\u001b[0;34m()\u001b[0m\n\u001b[0;32m----> 1\u001b[0;31m \u001b[0mImageDetection\u001b[0m\u001b[0;34m(\u001b[0m\u001b[0;34m'train_original.jpg'\u001b[0m\u001b[0;34m)\u001b[0m\u001b[0;34m\u001b[0m\u001b[0m\n\u001b[0m",
      "\u001b[0;31mTypeError\u001b[0m: ImageDetection() missing 1 required positional argument: 'numcards'"
     ]
    }
   ],
   "source": [
    "ImageDetection('train_original.jpg',4)"
   ]
  },
  {
   "cell_type": "code",
   "execution_count": null,
   "metadata": {},
   "outputs": [],
   "source": []
  }
 ],
 "metadata": {
  "kernelspec": {
   "display_name": "Python 3",
   "language": "python",
   "name": "python3"
  },
  "language_info": {
   "codemirror_mode": {
    "name": "ipython",
    "version": 3
   },
   "file_extension": ".py",
   "mimetype": "text/x-python",
   "name": "python",
   "nbconvert_exporter": "python",
   "pygments_lexer": "ipython3",
   "version": "3.6.4"
  }
 },
 "nbformat": 4,
 "nbformat_minor": 2
}
