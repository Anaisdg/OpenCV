{
 "cells": [
  {
   "cell_type": "code",
   "execution_count": 199,
   "metadata": {
    "collapsed": true
   },
   "outputs": [],
   "source": [
    "import pandas as pd\n",
    "import itertools\n",
    "import numpy as np\n",
    "import pprint\n",
    "from scipy import sparse"
   ]
  },
  {
   "cell_type": "code",
   "execution_count": 20,
   "metadata": {
    "collapsed": true
   },
   "outputs": [],
   "source": [
    "number = [\"1\",\"2\",\"3\"]\n",
    "shape = ['d','s','o']\n",
    "color = ['r','g','p']\n",
    "shading = ['f','e','s']\n",
    "\n"
   ]
  },
  {
   "cell_type": "code",
   "execution_count": 119,
   "metadata": {},
   "outputs": [],
   "source": [
    "def unpack(cards):\n",
    "    \n",
    "  \n",
    "    board = {}\n",
    "    for i in range(0,len(cards)):\n",
    "        board[i] ={'number':cards[i][0],\n",
    "                   'shape':cards[i][1],\n",
    "                   'color':cards[i][2],\n",
    "                   'shading':cards[i][3]}\n",
    "   \n",
    "    return board"
   ]
  },
  {
   "cell_type": "code",
   "execution_count": 115,
   "metadata": {
    "collapsed": true
   },
   "outputs": [],
   "source": [
    "x = list(itertools.product(number,shape,color,shading))\n",
    "hello = []\n",
    "for y in x:\n",
    "    hello.append(np.array(\"\".join(y)))\n",
    "    \n",
    "special = pd.DataFrame(hello)\n",
    "special.to_csv(\"./qa.csv\")"
   ]
  },
  {
   "cell_type": "code",
   "execution_count": 113,
   "metadata": {
    "collapsed": true
   },
   "outputs": [],
   "source": [
    "qa = pd.DataFrame(x)\n",
    "qa.to_csv('./qa.csv')"
   ]
  },
  {
   "cell_type": "code",
   "execution_count": 98,
   "metadata": {
    "collapsed": true
   },
   "outputs": [],
   "source": [
    "test_list = [['1','D','R','S'],\n",
    "             ['2','D','P','E'],\n",
    "             ['3','D','P','E'],\n",
    "             ['1','D','P','E'],\n",
    "            ['2','S','G','S'],\n",
    "            ['2','O','G','E'],\n",
    "            ['2','D','P','E'],\n",
    "            ['3','D','R','F'],\n",
    "            ['1','O','R','F'],\n",
    "            ['2','O','R','F'],\n",
    "            ['3','O','R','F'],\n",
    "            ['1','D','R','F'],\n",
    "            ['2','D','R','F'],\n",
    "            ['3','D','R','F'],\n",
    "            ['1','S','G','F'],\n",
    "            ['2','S','G','F']]"
   ]
  },
  {
   "cell_type": "code",
   "execution_count": 122,
   "metadata": {},
   "outputs": [],
   "source": [
    "board = unpack(test_list)"
   ]
  },
  {
   "cell_type": "markdown",
   "metadata": {},
   "source": [
    "findset funciton"
   ]
  },
  {
   "cell_type": "code",
   "execution_count": 142,
   "metadata": {},
   "outputs": [],
   "source": [
    "usage_list = {}\n",
    "for i in range(0,len(board) - 2):\n",
    "    c1 = board[i];\n",
    "    for j in range(i + 1,len(board) - 1):\n",
    "        c2 = board[j];\n",
    "        for k in range(j + 1,len(board)):\n",
    "          c3 = board[k];\n",
    "          usage_list[i]={\"card1\":c1,\n",
    "                         \"card2\":c2,\n",
    "                         \"card3\":c3}\n",
    "\n",
    "         "
   ]
  },
  {
   "cell_type": "code",
   "execution_count": 148,
   "metadata": {},
   "outputs": [
    {
     "data": {
      "text/plain": [
       "{'card1': {'color': 'R', 'number': '1', 'shading': 'S', 'shape': 'D'},\n",
       " 'card2': {'color': 'G', 'number': '1', 'shading': 'F', 'shape': 'S'},\n",
       " 'card3': {'color': 'G', 'number': '2', 'shading': 'F', 'shape': 'S'}}"
      ]
     },
     "execution_count": 148,
     "metadata": {},
     "output_type": "execute_result"
    }
   ],
   "source": [
    "usage_list[0]"
   ]
  },
  {
   "cell_type": "code",
   "execution_count": 173,
   "metadata": {
    "collapsed": true
   },
   "outputs": [],
   "source": [
    "card1 = usage_list[0]['card1']\n",
    "card2 = usage_list[0]['card2']\n",
    "card3 = usage_list[0]['card3']\n",
    "\n"
   ]
  },
  {
   "cell_type": "markdown",
   "metadata": {},
   "source": [
    "checkset function"
   ]
  },
  {
   "cell_type": "code",
   "execution_count": 170,
   "metadata": {},
   "outputs": [
    {
     "name": "stdout",
     "output_type": "stream",
     "text": [
      "G\n"
     ]
    }
   ],
   "source": [
    "print(card3['color'])"
   ]
  },
  {
   "cell_type": "code",
   "execution_count": 195,
   "metadata": {},
   "outputs": [],
   "source": [
    "class Set() \n",
    "    def findset():\n",
    "        for i in range(0,len(board) - 2):\n",
    "        c1 = board[i]\n",
    "        for j in range(i + 1,len(board) - 1):\n",
    "            c2 = board[j]\n",
    "            for k in range(j + 1,len(board)):\n",
    "                c3 = board[k]\n",
    "                if (checkSet(c1, c2, c3)):\n",
    "                    foundSet = [c1, c2, c3]\n",
    "                    return foundset\n",
    "\n",
    "    def checkSet(card1,card2,card3):\n",
    "        if(card1 == None or card2 == None or card3 == None):\n",
    "            raise ValueError('Wrong Data Type')\n",
    "        return isAllSameorDiff(card1['color'],card2['color'], card3['color']) and isAllSameorDiff(card1['shape'], card2['shape'], card3['shape']) and isAllSameorDiff(card1['shading'], card2['shading'], card3['shading']) and isAllSameorDiff(card1['number'], card2['number'], card3['number'])\n",
    "\n",
    "    def isAllSameorDiff(a,b,c):\n",
    "        return (a == b and a == c and b == c) or (a != b and a != c and b != c)\n",
    "\n",
    "    def removeSet(pos1, pos2, pos3):\n",
    "        board.splice(pos1, 1)\n",
    "        board.splice(pos2, 1)\n",
    "        board.splice(pos3, 1)\n",
    "  \n",
    "\n",
    "        "
   ]
  },
  {
   "cell_type": "code",
   "execution_count": 193,
   "metadata": {},
   "outputs": [
    {
     "name": "stdout",
     "output_type": "stream",
     "text": [
      "False\n"
     ]
    }
   ],
   "source": [
    "print(checkset(card1,card2,card3))"
   ]
  },
  {
   "cell_type": "code",
   "execution_count": 207,
   "metadata": {},
   "outputs": [],
   "source": [
    "def findset()\n",
    "for i in range(0,len(board) - 2):\n",
    "    c1 = board[i]\n",
    "    for j in range(i + 1,len(board) - 1):\n",
    "        c2 = board[j]\n",
    "        for k in range(j + 1,len(board)):\n",
    "            c3 = board[k]\n",
    "            if (checkSet(c1, c2, c3)):\n",
    "                foundSet = [c1, c2, c3]\n",
    "                return foundset"
   ]
  },
  {
   "cell_type": "code",
   "execution_count": 208,
   "metadata": {},
   "outputs": [
    {
     "data": {
      "text/plain": [
       "[[{'color': 'P', 'number': '2', 'shading': 'E', 'shape': 'D'},\n",
       "  {'color': 'P', 'number': '3', 'shading': 'E', 'shape': 'D'},\n",
       "  {'color': 'P', 'number': '1', 'shading': 'E', 'shape': 'D'}],\n",
       " [{'color': 'P', 'number': '2', 'shading': 'E', 'shape': 'D'},\n",
       "  {'color': 'G', 'number': '2', 'shading': 'S', 'shape': 'S'},\n",
       "  {'color': 'R', 'number': '2', 'shading': 'F', 'shape': 'O'}],\n",
       " [{'color': 'P', 'number': '3', 'shading': 'E', 'shape': 'D'},\n",
       "  {'color': 'P', 'number': '1', 'shading': 'E', 'shape': 'D'},\n",
       "  {'color': 'P', 'number': '2', 'shading': 'E', 'shape': 'D'}],\n",
       " [{'color': 'P', 'number': '3', 'shading': 'E', 'shape': 'D'},\n",
       "  {'color': 'G', 'number': '2', 'shading': 'S', 'shape': 'S'},\n",
       "  {'color': 'R', 'number': '1', 'shading': 'F', 'shape': 'O'}],\n",
       " [{'color': 'P', 'number': '1', 'shading': 'E', 'shape': 'D'},\n",
       "  {'color': 'G', 'number': '2', 'shading': 'S', 'shape': 'S'},\n",
       "  {'color': 'R', 'number': '3', 'shading': 'F', 'shape': 'O'}],\n",
       " [{'color': 'G', 'number': '2', 'shading': 'S', 'shape': 'S'},\n",
       "  {'color': 'P', 'number': '2', 'shading': 'E', 'shape': 'D'},\n",
       "  {'color': 'R', 'number': '2', 'shading': 'F', 'shape': 'O'}],\n",
       " [{'color': 'R', 'number': '3', 'shading': 'F', 'shape': 'D'},\n",
       "  {'color': 'R', 'number': '1', 'shading': 'F', 'shape': 'D'},\n",
       "  {'color': 'R', 'number': '2', 'shading': 'F', 'shape': 'D'}],\n",
       " [{'color': 'R', 'number': '1', 'shading': 'F', 'shape': 'O'},\n",
       "  {'color': 'R', 'number': '2', 'shading': 'F', 'shape': 'O'},\n",
       "  {'color': 'R', 'number': '3', 'shading': 'F', 'shape': 'O'}],\n",
       " [{'color': 'R', 'number': '1', 'shading': 'F', 'shape': 'D'},\n",
       "  {'color': 'R', 'number': '2', 'shading': 'F', 'shape': 'D'},\n",
       "  {'color': 'R', 'number': '3', 'shading': 'F', 'shape': 'D'}]]"
      ]
     },
     "execution_count": 208,
     "metadata": {},
     "output_type": "execute_result"
    }
   ],
   "source": [
    "newfoundset"
   ]
  },
  {
   "cell_type": "code",
   "execution_count": null,
   "metadata": {
    "collapsed": true
   },
   "outputs": [],
   "source": []
  }
 ],
 "metadata": {
  "kernelspec": {
   "display_name": "Python 3",
   "language": "python",
   "name": "python3"
  },
  "language_info": {
   "codemirror_mode": {
    "name": "ipython",
    "version": 3
   },
   "file_extension": ".py",
   "mimetype": "text/x-python",
   "name": "python",
   "nbconvert_exporter": "python",
   "pygments_lexer": "ipython3",
   "version": "3.6.3"
  }
 },
 "nbformat": 4,
 "nbformat_minor": 2
}
