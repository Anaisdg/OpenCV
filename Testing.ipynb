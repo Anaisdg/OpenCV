{
 "cells": [
  {
   "cell_type": "code",
   "execution_count": 46,
   "metadata": {
    "collapsed": true
   },
   "outputs": [],
   "source": [
    "import card_detection \n",
    "import cv2 as cv\n",
    "import Card_Predictor \n",
    "import Gamelogic\n",
    "import unpack\n"
   ]
  },
  {
   "cell_type": "code",
   "execution_count": 47,
   "metadata": {
    "collapsed": true
   },
   "outputs": [],
   "source": [
    "test = Card_Predictor.prediction_tuples()"
   ]
  },
  {
   "cell_type": "code",
   "execution_count": 48,
   "metadata": {},
   "outputs": [
    {
     "data": {
      "text/plain": [
       "list"
      ]
     },
     "execution_count": 48,
     "metadata": {},
     "output_type": "execute_result"
    }
   ],
   "source": [
    "type(test)"
   ]
  },
  {
   "cell_type": "code",
   "execution_count": 49,
   "metadata": {},
   "outputs": [
    {
     "data": {
      "text/plain": [
       "dict"
      ]
     },
     "execution_count": 49,
     "metadata": {},
     "output_type": "execute_result"
    }
   ],
   "source": [
    "type(board)"
   ]
  },
  {
   "cell_type": "code",
   "execution_count": 50,
   "metadata": {
    "collapsed": true
   },
   "outputs": [],
   "source": [
    "real_value = unpack.unpack_result(test)"
   ]
  },
  {
   "cell_type": "code",
   "execution_count": 51,
   "metadata": {},
   "outputs": [
    {
     "data": {
      "text/plain": [
       "{0: {'color': 'P', 'number': '1', 'shading': 'E', 'shape': 'D'},\n",
       " 1: {'color': 'G', 'number': '3', 'shading': 'S', 'shape': 'O'},\n",
       " 2: {'color': 'R', 'number': '3', 'shading': 'E', 'shape': 'D'},\n",
       " 3: {'color': 'R', 'number': '3', 'shading': 'F', 'shape': 'O'},\n",
       " 4: {'color': 'G', 'number': '3', 'shading': 'S', 'shape': 'O'},\n",
       " 5: {'color': 'R', 'number': '1', 'shading': 'S', 'shape': 'O'},\n",
       " 6: {'color': 'R', 'number': '3', 'shading': 'E', 'shape': 'S'},\n",
       " 7: {'color': 'R', 'number': '1', 'shading': 'E', 'shape': 'O'},\n",
       " 8: {'color': 'G', 'number': '2', 'shading': 'E', 'shape': 'D'},\n",
       " 9: {'color': 'R', 'number': '2', 'shading': 'S', 'shape': 'S'},\n",
       " 10: {'color': 'G', 'number': '1', 'shading': 'E', 'shape': 'D'},\n",
       " 11: {'color': 'G', 'number': '3', 'shading': 'S', 'shape': 'O'}}"
      ]
     },
     "execution_count": 51,
     "metadata": {},
     "output_type": "execute_result"
    }
   ],
   "source": [
    "real_value"
   ]
  },
  {
   "cell_type": "code",
   "execution_count": 52,
   "metadata": {},
   "outputs": [
    {
     "name": "stdout",
     "output_type": "stream",
     "text": [
      "[{'number': '1', 'shape': 'D', 'color': 'P', 'shading': 'E'}, {'number': '3', 'shape': 'D', 'color': 'R', 'shading': 'E'}, {'number': '2', 'shape': 'D', 'color': 'G', 'shading': 'E'}]\n",
      "[{'number': '3', 'shape': 'O', 'color': 'G', 'shading': 'S'}, {'number': '3', 'shape': 'O', 'color': 'G', 'shading': 'S'}, {'number': '3', 'shape': 'O', 'color': 'G', 'shading': 'S'}]\n"
     ]
    }
   ],
   "source": [
    "findSet(real_value)"
   ]
  },
  {
   "cell_type": "code",
   "execution_count": 39,
   "metadata": {
    "collapsed": true
   },
   "outputs": [],
   "source": [
    "def unpack(cards):\n",
    "    \n",
    "  \n",
    "    board = {}\n",
    "    for i in range(0,len(cards)):\n",
    "        board[i] ={'number':cards[i][0],\n",
    "                   'shape':cards[i][1],\n",
    "                   'color':cards[i][2],\n",
    "                   'shading':cards[i][3]}\n",
    "   \n",
    "    return board\n",
    "\n",
    "    \n",
    "def findSet(board):\n",
    "    for i in range(0,len(board) - 2):\n",
    "        c1 = board[i]\n",
    "        for j in range(i + 1,len(board) - 1):\n",
    "            c2 = board[j]\n",
    "            for k in range(j + 1,len(board)):\n",
    "                c3 = board[k]\n",
    "                if (checkSet(c1, c2, c3)):\n",
    "                    print([c1,c2,c3])\n",
    "                    foundSet = [c1, c2, c3]\n",
    "                    \n",
    "\n",
    "def checkSet(card1,card2,card3):\n",
    "    if(card1 == None or card2 == None or card3 == None):\n",
    "        raise ValueError('Wrong Data Type')\n",
    "    return isAllSameorDiff(card1['color'],card2['color'], card3['color']) and isAllSameorDiff(card1['shape'], card2['shape'], card3['shape']) and isAllSameorDiff(card1['shading'], card2['shading'], card3['shading']) and isAllSameorDiff(card1['number'], card2['number'], card3['number'])\n",
    "\n",
    "def isAllSameorDiff(a,b,c):\n",
    "    return (a == b and a == c and b == c) or (a != b and a != c and b != c)\n",
    "\n",
    "def removeSet(pos1, pos2, pos3):\n",
    "    board.splice(pos1, 1)\n",
    "    board.splice(pos2, 1)\n",
    "    board.splice(pos3, 1)\n"
   ]
  },
  {
   "cell_type": "code",
   "execution_count": null,
   "metadata": {
    "collapsed": true
   },
   "outputs": [],
   "source": [
    "def unpack_dict_2(cards):\n",
    "\n",
    "    board= {}\n",
    "    cards = []\n",
    "    for x in test_list:\n",
    "        for y in x:\n",
    "            cards.append(list(y))\n",
    "\n",
    "    for i in range(0,len(cards)):\n",
    "          board[i] ={'number':cards[i][0],\n",
    "                   'shape':cards[i][1],\n",
    "                   'color':cards[i][2],\n",
    "                   'shading':cards[i][3]}\n",
    "    return board"
   ]
  },
  {
   "cell_type": "code",
   "execution_count": null,
   "metadata": {
    "collapsed": true
   },
   "outputs": [],
   "source": [
    "data= unpack_dict_2(test_list)\n",
    "data\n"
   ]
  },
  {
   "cell_type": "code",
   "execution_count": null,
   "metadata": {
    "collapsed": true
   },
   "outputs": [],
   "source": []
  },
  {
   "cell_type": "code",
   "execution_count": null,
   "metadata": {
    "collapsed": true
   },
   "outputs": [],
   "source": [
    "x = list(itertools.product(number,shape,color,shading))\n",
    "hello = []\n",
    "for y in x:\n",
    "    hello.append(np.array(\"\".join(y)))\n",
    "    \n",
    "special = pd.DataFrame(hello)\n",
    "special.to_csv(\"./qa.csv\")"
   ]
  },
  {
   "cell_type": "code",
   "execution_count": null,
   "metadata": {
    "collapsed": true
   },
   "outputs": [],
   "source": [
    "qa = pd.DataFrame(x)\n",
    "qa.to_csv('./qa.csv')"
   ]
  },
  {
   "cell_type": "code",
   "execution_count": null,
   "metadata": {
    "collapsed": true
   },
   "outputs": [],
   "source": [
    "test_list = [['1','D','R','S'],\n",
    "             ['2','D','P','E'],\n",
    "             ['3','D','P','E'],\n",
    "             ['1','D','P','E'],\n",
    "            ['2','S','G','S'],\n",
    "            ['2','O','G','E'],\n",
    "            ['2','D','P','E'],\n",
    "            ['3','D','R','F'],\n",
    "            ['1','O','R','F'],\n",
    "            ['2','O','R','F'],\n",
    "            ['3','O','R','F'],\n",
    "            ['1','D','R','F'],\n",
    "            ['2','D','R','F'],\n",
    "            ['3','D','R','F'],\n",
    "            ['1','S','G','F'],\n",
    "            ['2','S','G','F']]"
   ]
  },
  {
   "cell_type": "code",
   "execution_count": null,
   "metadata": {
    "collapsed": true
   },
   "outputs": [],
   "source": [
    "board = unpack(test_list)"
   ]
  },
  {
   "cell_type": "markdown",
   "metadata": {},
   "source": [
    "findset funciton"
   ]
  },
  {
   "cell_type": "code",
   "execution_count": null,
   "metadata": {
    "collapsed": true
   },
   "outputs": [],
   "source": [
    "usage_list = {}\n",
    "for i in range(0,len(board) - 2):\n",
    "    c1 = board[i];\n",
    "    for j in range(i + 1,len(board) - 1):\n",
    "        c2 = board[j];\n",
    "        for k in range(j + 1,len(board)):\n",
    "          c3 = board[k];\n",
    "          usage_list[i]={\"card1\":c1,\n",
    "                         \"card2\":c2,\n",
    "                         \"card3\":c3}\n",
    "\n",
    "         "
   ]
  },
  {
   "cell_type": "code",
   "execution_count": null,
   "metadata": {
    "collapsed": true
   },
   "outputs": [],
   "source": [
    "usage_list[0]"
   ]
  },
  {
   "cell_type": "code",
   "execution_count": null,
   "metadata": {
    "collapsed": true
   },
   "outputs": [],
   "source": [
    "card1 = usage_list[0]['card1']\n",
    "card2 = usage_list[0]['card2']\n",
    "card3 = usage_list[0]['card3']\n",
    "\n"
   ]
  },
  {
   "cell_type": "markdown",
   "metadata": {},
   "source": [
    "checkset function"
   ]
  },
  {
   "cell_type": "code",
   "execution_count": null,
   "metadata": {
    "collapsed": true
   },
   "outputs": [],
   "source": [
    "print(board)"
   ]
  },
  {
   "cell_type": "code",
   "execution_count": null,
   "metadata": {
    "collapsed": true
   },
   "outputs": [],
   "source": [
    "\n",
    "\n",
    "\n"
   ]
  },
  {
   "cell_type": "code",
   "execution_count": null,
   "metadata": {
    "collapsed": true
   },
   "outputs": [],
   "source": [
    "print(checkSet(card1,card2,card3))"
   ]
  },
  {
   "cell_type": "code",
   "execution_count": null,
   "metadata": {
    "collapsed": true
   },
   "outputs": [],
   "source": []
  },
  {
   "cell_type": "code",
   "execution_count": null,
   "metadata": {
    "collapsed": true
   },
   "outputs": [],
   "source": [
    "setFound = findset(board)\n",
    "print(setFound)"
   ]
  },
  {
   "cell_type": "code",
   "execution_count": null,
   "metadata": {
    "collapsed": true
   },
   "outputs": [],
   "source": [
    "new_dict = {}\n",
    "for x in newfoundset:\n",
    "    for y in x:\n",
    "        new_dict[len(x)] = {\"card_id\":(y['color'] + y['number'] + y['shading'] + y['shape'])}"
   ]
  },
  {
   "cell_type": "code",
   "execution_count": null,
   "metadata": {
    "collapsed": true
   },
   "outputs": [],
   "source": [
    "new_dict"
   ]
  },
  {
   "cell_type": "code",
   "execution_count": null,
   "metadata": {
    "collapsed": true
   },
   "outputs": [],
   "source": []
  },
  {
   "cell_type": "code",
   "execution_count": null,
   "metadata": {
    "collapsed": true
   },
   "outputs": [],
   "source": []
  }
 ],
 "metadata": {
  "kernelspec": {
   "display_name": "Python 3",
   "language": "python",
   "name": "python3"
  },
  "language_info": {
   "codemirror_mode": {
    "name": "ipython",
    "version": 3
   },
   "file_extension": ".py",
   "mimetype": "text/x-python",
   "name": "python",
   "nbconvert_exporter": "python",
   "pygments_lexer": "ipython3",
   "version": "3.6.3"
  }
 },
 "nbformat": 4,
 "nbformat_minor": 2
}
