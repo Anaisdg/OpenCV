{
 "cells": [
  {
   "cell_type": "code",
   "execution_count": 1,
   "metadata": {
    "collapsed": true
   },
   "outputs": [],
   "source": [
    "import pandas as pd\n",
    "import itertools\n",
    "import numpy as np\n",
    "import pprint\n",
    "from scipy import sparse\n",
    "from unpack import unpack_dict"
   ]
  },
  {
   "cell_type": "code",
   "execution_count": 2,
   "metadata": {
    "collapsed": true
   },
   "outputs": [],
   "source": [
    "test_list = [['1','D','R','S'],\n",
    "             ['2','D','P','E'],\n",
    "             ['3','D','P','E'],\n",
    "             ['1','D','P','E'],\n",
    "            ['2','S','G','S'],\n",
    "            ['2','O','G','E'],\n",
    "            ['2','D','P','E'],\n",
    "            ['3','D','R','F'],\n",
    "            ['1','O','R','F'],\n",
    "            ['2','O','R','F'],\n",
    "            ['3','O','R','F'],\n",
    "            ['1','D','R','F'],\n",
    "            ['2','D','R','F'],\n",
    "            ['3','D','R','F'],\n",
    "            ['1','S','G','F'],\n",
    "            ['2','S','G','F']]"
   ]
  },
  {
   "cell_type": "code",
   "execution_count": 3,
   "metadata": {},
   "outputs": [
    {
     "data": {
      "text/plain": [
       "{0: {'color': 'R', 'number': '1', 'shading': 'S', 'shape': 'D'},\n",
       " 1: {'color': 'P', 'number': '2', 'shading': 'E', 'shape': 'D'},\n",
       " 2: {'color': 'P', 'number': '3', 'shading': 'E', 'shape': 'D'},\n",
       " 3: {'color': 'P', 'number': '1', 'shading': 'E', 'shape': 'D'},\n",
       " 4: {'color': 'G', 'number': '2', 'shading': 'S', 'shape': 'S'},\n",
       " 5: {'color': 'G', 'number': '2', 'shading': 'E', 'shape': 'O'},\n",
       " 6: {'color': 'P', 'number': '2', 'shading': 'E', 'shape': 'D'},\n",
       " 7: {'color': 'R', 'number': '3', 'shading': 'F', 'shape': 'D'},\n",
       " 8: {'color': 'R', 'number': '1', 'shading': 'F', 'shape': 'O'},\n",
       " 9: {'color': 'R', 'number': '2', 'shading': 'F', 'shape': 'O'},\n",
       " 10: {'color': 'R', 'number': '3', 'shading': 'F', 'shape': 'O'},\n",
       " 11: {'color': 'R', 'number': '1', 'shading': 'F', 'shape': 'D'},\n",
       " 12: {'color': 'R', 'number': '2', 'shading': 'F', 'shape': 'D'},\n",
       " 13: {'color': 'R', 'number': '3', 'shading': 'F', 'shape': 'D'},\n",
       " 14: {'color': 'G', 'number': '1', 'shading': 'F', 'shape': 'S'},\n",
       " 15: {'color': 'G', 'number': '2', 'shading': 'F', 'shape': 'S'}}"
      ]
     },
     "execution_count": 3,
     "metadata": {},
     "output_type": "execute_result"
    }
   ],
   "source": [
    "board = unpack_dict(test_list)\n",
    "board"
   ]
  },
  {
   "cell_type": "code",
   "execution_count": 4,
   "metadata": {
    "collapsed": true
   },
   "outputs": [],
   "source": [
    "\n",
    "def findSet(board):\n",
    "    foundSet = []\n",
    "    for i in range(0,len(board) - 2):\n",
    "        c1 = board[i]\n",
    "      \n",
    "       \n",
    "        for j in range(i + 1,len(board) - 1):\n",
    "            c2 = board[j]\n",
    "            \n",
    "            for k in range(j + 1,len(board)):\n",
    "                c3 = board[k]\n",
    "                if (checkSet(c1, c2, c3)):\n",
    "                    foundSet.append([c1, c2, c3])\n",
    "                    SetFound = DataSet(foundSet)\n",
    "   \n",
    "    return SetFound\n",
    "\n",
    "def checkSet(card1,card2,card3):\n",
    "    if(card1 == None or card2 == None or card3 == None):\n",
    "        raise ValueError('Wrong Data Type')\n",
    "    return isAllSameorDiff(card1['color'],card2['color'], card3['color']) and isAllSameorDiff(card1['shape'], card2['shape'], card3['shape']) and isAllSameorDiff(card1['shading'], card2['shading'], card3['shading']) and isAllSameorDiff(card1['number'], card2['number'], card3['number'])\n",
    "\n",
    "def isAllSameorDiff(a,b,c):\n",
    "    return (a == b and a == c and b == c) or (a != b and a != c and b != c)\n",
    "\n",
    "def removeSet(pos1, pos2, pos3):\n",
    "    board.splice(pos1, 1)\n",
    "    board.splice(pos2, 1)\n",
    "    board.splice(pos3, 1)\n",
    "\n",
    "def DataSet(foundSet):\n",
    "    data = []\n",
    "    for set_id, item in enumerate(foundSet):\n",
    "        cards = []\n",
    "        for obj in item:\n",
    "            cards.append(obj['number']+obj['shape']+obj['color']+obj['shading'])\n",
    "\n",
    "        data.append({\n",
    "            \"set\": set_id,\n",
    "            \"cards\": cards\n",
    "        })\n",
    "\n",
    "    return data"
   ]
  },
  {
   "cell_type": "code",
   "execution_count": 7,
   "metadata": {},
   "outputs": [
    {
     "data": {
      "text/plain": [
       "[{'cards': ['2DPE', '3DPE', '1DPE'], 'set': 0},\n",
       " {'cards': ['2DPE', '2SGS', '2ORF'], 'set': 1},\n",
       " {'cards': ['3DPE', '1DPE', '2DPE'], 'set': 2},\n",
       " {'cards': ['3DPE', '2SGS', '1ORF'], 'set': 3},\n",
       " {'cards': ['1DPE', '2SGS', '3ORF'], 'set': 4},\n",
       " {'cards': ['2SGS', '2DPE', '2ORF'], 'set': 5},\n",
       " {'cards': ['3DRF', '1DRF', '2DRF'], 'set': 6},\n",
       " {'cards': ['1ORF', '2ORF', '3ORF'], 'set': 7},\n",
       " {'cards': ['1DRF', '2DRF', '3DRF'], 'set': 8}]"
      ]
     },
     "execution_count": 7,
     "metadata": {},
     "output_type": "execute_result"
    }
   ],
   "source": [
    "setFound = findSet(board)\n",
    "setFound\n"
   ]
  },
  {
   "cell_type": "code",
   "execution_count": null,
   "metadata": {},
   "outputs": [],
   "source": [
    "# outputSetFound = []\n",
    "# ids\n",
    "# for i, x in enumerate(setFound):\n",
    "#     for y in x:\n",
    "#         outputSetFound.append(y['number']+y['shape']+y['color']+y['shading'])\n",
    "\n",
    "# jsonify([\"P2ED\", \"P3ED\"])\n",
    "\n",
    "# {\n",
    "#     \"set\": idx,\n",
    "#     \"cards\": [1, 2, 3]\n",
    "    \n",
    "# }\n",
    "\n",
    "jsonify(data)"
   ]
  },
  {
   "cell_type": "code",
   "execution_count": null,
   "metadata": {},
   "outputs": [],
   "source": [
    "for i in range(0,len(board) - 2):\n",
    "    c1 = board[i]\n",
    "\n",
    "    for j in range(i + 1,len(board) - 1):\n",
    "        c2 = board[j]\n",
    "        for k in range(j + 1,len(board)):\n",
    "            c3 = board[k]\n",
    "            if (checkSet(c1, c2, c3)):\n",
    "                foundSet = [c1, c2, c3]\n",
    "    return foundSet"
   ]
  },
  {
   "cell_type": "code",
   "execution_count": null,
   "metadata": {
    "collapsed": true
   },
   "outputs": [],
   "source": []
  },
  {
   "cell_type": "code",
   "execution_count": null,
   "metadata": {
    "collapsed": true
   },
   "outputs": [],
   "source": []
  }
 ],
 "metadata": {
  "kernelspec": {
   "display_name": "Python 3",
   "language": "python",
   "name": "python3"
  },
  "language_info": {
   "codemirror_mode": {
    "name": "ipython",
    "version": 3
   },
   "file_extension": ".py",
   "mimetype": "text/x-python",
   "name": "python",
   "nbconvert_exporter": "python",
   "pygments_lexer": "ipython3",
   "version": "3.6.3"
  }
 },
 "nbformat": 4,
 "nbformat_minor": 2
}
