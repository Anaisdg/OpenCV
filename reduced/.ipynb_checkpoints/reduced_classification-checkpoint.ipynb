{
 "cells": [
  {
   "cell_type": "code",
   "execution_count": 3,
   "metadata": {},
   "outputs": [
    {
     "name": "stdout",
     "output_type": "stream",
     "text": [
      "\u001b[34m1DGE\u001b[m\u001b[m \u001b[34m1DGS\u001b[m\u001b[m \u001b[34m1OGF\u001b[m\u001b[m \u001b[34m1SGE\u001b[m\u001b[m \u001b[34m1SGS\u001b[m\u001b[m \u001b[34m2DGF\u001b[m\u001b[m \u001b[34m2OGE\u001b[m\u001b[m \u001b[34m2OGS\u001b[m\u001b[m \u001b[34m2SGF\u001b[m\u001b[m \u001b[34m3DGE\u001b[m\u001b[m \u001b[34m3DGS\u001b[m\u001b[m \u001b[34m3OGF\u001b[m\u001b[m \u001b[34m3SGE\u001b[m\u001b[m \u001b[34m3SGS\u001b[m\u001b[m\r\n",
      "\u001b[34m1DGF\u001b[m\u001b[m \u001b[34m1OGE\u001b[m\u001b[m \u001b[34m1OGS\u001b[m\u001b[m \u001b[34m1SGF\u001b[m\u001b[m \u001b[34m2DGE\u001b[m\u001b[m \u001b[34m2DGS\u001b[m\u001b[m \u001b[34m2OGF\u001b[m\u001b[m \u001b[34m2SGE\u001b[m\u001b[m \u001b[34m2SGS\u001b[m\u001b[m \u001b[34m3DGF\u001b[m\u001b[m \u001b[34m3OGE\u001b[m\u001b[m \u001b[34m3OGS\u001b[m\u001b[m \u001b[34m3SGF\u001b[m\u001b[m\r\n"
     ]
    }
   ],
   "source": [
    "!ls reduced_train"
   ]
  },
  {
   "cell_type": "code",
   "execution_count": 7,
   "metadata": {
    "collapsed": true
   },
   "outputs": [],
   "source": [
    "from keras.models import Sequential\n",
    "from keras.layers import Conv2D, MaxPooling2D\n",
    "from keras.layers import Activation, Dropout, Flatten, Dense\n",
    "\n",
    "model = Sequential()\n",
    "model.add(Conv2D(32, (3, 3), input_shape=(150, 150, 3)))\n",
    "model.add(Activation('relu'))\n",
    "model.add(MaxPooling2D(pool_size=(2, 2)))\n",
    "\n",
    "model.add(Conv2D(32, (3, 3)))\n",
    "model.add(Activation('relu'))\n",
    "model.add(MaxPooling2D(pool_size=(2, 2)))\n",
    "\n",
    "model.add(Conv2D(64, (3, 3)))\n",
    "model.add(Activation('relu'))\n",
    "model.add(MaxPooling2D(pool_size=(2, 2)))\n",
    "\n",
    "model.add(Flatten())\n",
    "model.add(Dense(64))\n",
    "model.add(Activation('relu'))\n",
    "model.add(Dropout(0.5))\n",
    "model.add(Dense(12))\n",
    "model.add(Activation('softmax'))\n",
    "\n",
    "model.compile(loss='categorical_crossentropy',\n",
    "              optimizer='adam',\n",
    "              metrics=['accuracy'])\n",
    "batch_size = 12\n"
   ]
  },
  {
   "cell_type": "code",
   "execution_count": 8,
   "metadata": {
    "collapsed": true
   },
   "outputs": [],
   "source": [
    "from keras.preprocessing.image import ImageDataGenerator\n",
    "\n",
    "datagen = ImageDataGenerator(\n",
    "        rescale=1./255,\n",
    "        shear_range=0.2,\n",
    "        zoom_range=0.2,\n",
    "        horizontal_flip=True)"
   ]
  },
  {
   "cell_type": "code",
   "execution_count": null,
   "metadata": {},
   "outputs": [
    {
     "name": "stdout",
     "output_type": "stream",
     "text": [
      "Found 63 images belonging to 12 classes.\n",
      "Epoch 1/50\n"
     ]
    }
   ],
   "source": [
    "# checkpoint\n",
    "from keras.callbacks import ModelCheckpoint\n",
    "\n",
    "filepath=\"weights-improvement-{epoch:02d}-{acc:.2f}.hdf5\"\n",
    "checkpoint = ModelCheckpoint(filepath, monitor='acc', verbose=1, save_best_only=True,mode='auto')\n",
    "callbacks_list = [checkpoint]\n",
    "\n",
    "train_generator = datagen.flow_from_directory(\n",
    "        '../POC_data/train',\n",
    "        target_size=(150, 150),\n",
    "        batch_size=24,\n",
    "        class_mode='categorical')\n",
    "\n",
    "\n",
    "model.fit_generator(\n",
    "        train_generator,\n",
    "        steps_per_epoch=2048 // 24,\n",
    "        epochs=50,\n",
    "        callbacks=callbacks_list,\n",
    "        verbose=2)"
   ]
  },
  {
   "cell_type": "code",
   "execution_count": 6,
   "metadata": {
    "collapsed": true
   },
   "outputs": [],
   "source": [
    "model.save_weights('first_try.h5')"
   ]
  },
  {
   "cell_type": "code",
   "execution_count": null,
   "metadata": {
    "collapsed": true
   },
   "outputs": [],
   "source": []
  }
 ],
 "metadata": {
  "kernelspec": {
   "display_name": "Python 3",
   "language": "python",
   "name": "python3"
  },
  "language_info": {
   "codemirror_mode": {
    "name": "ipython",
    "version": 3
   },
   "file_extension": ".py",
   "mimetype": "text/x-python",
   "name": "python",
   "nbconvert_exporter": "python",
   "pygments_lexer": "ipython3",
   "version": "3.6.5"
  },
  "varInspector": {
   "cols": {
    "lenName": 16,
    "lenType": 16,
    "lenVar": 40
   },
   "kernels_config": {
    "python": {
     "delete_cmd_postfix": "",
     "delete_cmd_prefix": "del ",
     "library": "var_list.py",
     "varRefreshCmd": "print(var_dic_list())"
    },
    "r": {
     "delete_cmd_postfix": ") ",
     "delete_cmd_prefix": "rm(",
     "library": "var_list.r",
     "varRefreshCmd": "cat(var_dic_list()) "
    }
   },
   "types_to_exclude": [
    "module",
    "function",
    "builtin_function_or_method",
    "instance",
    "_Feature"
   ],
   "window_display": false
  }
 },
 "nbformat": 4,
 "nbformat_minor": 2
}
