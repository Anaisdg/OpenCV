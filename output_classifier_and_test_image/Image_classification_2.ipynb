{
 "cells": [
  {
   "cell_type": "code",
   "execution_count": 1,
   "metadata": {},
   "outputs": [
    {
     "name": "stderr",
     "output_type": "stream",
     "text": [
      "Using TensorFlow backend.\n"
     ]
    }
   ],
   "source": [
    "from keras.models import Sequential\n",
    "from keras.layers import Conv2D, MaxPooling2D\n",
    "from keras.layers import Activation, Dropout, Flatten, Dense\n",
    "\n",
    "model = Sequential()\n",
    "model.add(Conv2D(32, (3, 3), input_shape=(150, 150, 3)))\n",
    "model.add(Activation('relu'))\n",
    "model.add(MaxPooling2D(pool_size=(2, 2)))\n",
    "\n",
    "model.add(Conv2D(32, (3, 3)))\n",
    "model.add(Activation('relu'))\n",
    "model.add(MaxPooling2D(pool_size=(2, 2)))\n",
    "\n",
    "model.add(Conv2D(64, (3, 3)))\n",
    "model.add(Activation('relu'))\n",
    "model.add(MaxPooling2D(pool_size=(2, 2)))\n",
    "\n",
    "model.add(Flatten())\n",
    "model.add(Dense(64))\n",
    "model.add(Activation('relu'))\n",
    "model.add(Dropout(0.5))\n",
    "model.add(Dense(81))\n",
    "model.add(Activation('softmax'))\n",
    "\n",
    "model.compile(loss='categorical_crossentropy',\n",
    "              optimizer='adam',\n",
    "              metrics=['accuracy'])\n",
    "batch_size = 81\n"
   ]
  },
  {
   "cell_type": "code",
   "execution_count": 2,
   "metadata": {
    "collapsed": true
   },
   "outputs": [],
   "source": [
    "from keras.preprocessing.image import ImageDataGenerator\n",
    "\n",
    "datagen = ImageDataGenerator(\n",
    "        rescale=1./255,\n",
    "        shear_range=0.2,\n",
    "        zoom_range=0.2,\n",
    "        horizontal_flip=True)"
   ]
  },
  {
   "cell_type": "code",
   "execution_count": 4,
   "metadata": {},
   "outputs": [
    {
     "name": "stdout",
     "output_type": "stream",
     "text": [
      "Found 1001 images belonging to 81 classes.\n",
      "Epoch 1/50\n",
      "Epoch 00000: acc improved from -inf to 0.01325, saving model to weights-improvement-00-0.01.hdf5\n",
      "33s - loss: 4.3980 - acc: 0.0124\n",
      "Epoch 2/50\n",
      "Epoch 00001: acc improved from 0.01325 to 0.02026, saving model to weights-improvement-01-0.02.hdf5\n",
      "30s - loss: 4.3740 - acc: 0.0177\n",
      "Epoch 3/50\n",
      "Epoch 00002: acc improved from 0.02026 to 0.02324, saving model to weights-improvement-02-0.02.hdf5\n",
      "30s - loss: 4.3338 - acc: 0.0203\n",
      "Epoch 4/50\n",
      "Epoch 00003: acc improved from 0.02324 to 0.03589, saving model to weights-improvement-03-0.04.hdf5\n",
      "32s - loss: 4.2642 - acc: 0.0380\n",
      "Epoch 5/50\n",
      "Epoch 00004: acc improved from 0.03589 to 0.04589, saving model to weights-improvement-04-0.05.hdf5\n",
      "30s - loss: 4.1940 - acc: 0.0444\n",
      "Epoch 6/50\n",
      "Epoch 00005: acc improved from 0.04589 to 0.06198, saving model to weights-improvement-05-0.06.hdf5\n",
      "30s - loss: 4.0891 - acc: 0.0629\n",
      "Epoch 7/50\n",
      "Epoch 00006: acc improved from 0.06198 to 0.07569, saving model to weights-improvement-06-0.08.hdf5\n",
      "30s - loss: 4.0327 - acc: 0.0683\n",
      "Epoch 8/50\n",
      "Epoch 00007: acc did not improve\n",
      "32s - loss: 3.9006 - acc: 0.0725\n",
      "Epoch 9/50\n",
      "Epoch 00008: acc improved from 0.07569 to 0.09356, saving model to weights-improvement-08-0.09.hdf5\n",
      "29s - loss: 3.7907 - acc: 0.0948\n",
      "Epoch 10/50\n",
      "Epoch 00009: acc improved from 0.09356 to 0.10012, saving model to weights-improvement-09-0.10.hdf5\n",
      "30s - loss: 3.7299 - acc: 0.0962\n",
      "Epoch 11/50\n",
      "Epoch 00010: acc improved from 0.10012 to 0.11209, saving model to weights-improvement-10-0.11.hdf5\n",
      "32s - loss: 3.6348 - acc: 0.1094\n",
      "Epoch 12/50\n",
      "Epoch 00011: acc improved from 0.11209 to 0.12455, saving model to weights-improvement-11-0.12.hdf5\n",
      "29s - loss: 3.5462 - acc: 0.1197\n",
      "Epoch 13/50\n",
      "Epoch 00012: acc improved from 0.12455 to 0.15495, saving model to weights-improvement-12-0.15.hdf5\n",
      "30s - loss: 3.4084 - acc: 0.1593\n",
      "Epoch 14/50\n",
      "Epoch 00013: acc did not improve\n",
      "29s - loss: 3.3608 - acc: 0.1465\n",
      "Epoch 15/50\n",
      "Epoch 00014: acc improved from 0.15495 to 0.17118, saving model to weights-improvement-14-0.17.hdf5\n",
      "31s - loss: 3.2031 - acc: 0.1691\n",
      "Epoch 16/50\n",
      "Epoch 00015: acc improved from 0.17118 to 0.17223, saving model to weights-improvement-15-0.17.hdf5\n",
      "30s - loss: 3.1441 - acc: 0.1723\n",
      "Epoch 17/50\n",
      "Epoch 00016: acc improved from 0.17223 to 0.17700, saving model to weights-improvement-16-0.18.hdf5\n",
      "30s - loss: 3.0330 - acc: 0.1830\n",
      "Epoch 18/50\n",
      "Epoch 00017: acc improved from 0.17700 to 0.19768, saving model to weights-improvement-17-0.20.hdf5\n",
      "31s - loss: 2.9305 - acc: 0.2048\n",
      "Epoch 19/50\n",
      "Epoch 00018: acc improved from 0.19768 to 0.21752, saving model to weights-improvement-18-0.22.hdf5\n",
      "29s - loss: 2.8199 - acc: 0.2118\n",
      "Epoch 20/50\n",
      "Epoch 00019: acc improved from 0.21752 to 0.21871, saving model to weights-improvement-19-0.22.hdf5\n",
      "30s - loss: 2.8046 - acc: 0.2259\n",
      "Epoch 21/50\n",
      "Epoch 00020: acc improved from 0.21871 to 0.23302, saving model to weights-improvement-20-0.23.hdf5\n",
      "29s - loss: 2.7146 - acc: 0.2319\n",
      "Epoch 22/50\n",
      "Epoch 00021: acc improved from 0.23302 to 0.23854, saving model to weights-improvement-21-0.24.hdf5\n",
      "32s - loss: 2.6893 - acc: 0.2365\n",
      "Epoch 23/50\n",
      "Epoch 00022: acc improved from 0.23854 to 0.24970, saving model to weights-improvement-22-0.25.hdf5\n",
      "29s - loss: 2.6158 - acc: 0.2530\n",
      "Epoch 24/50\n",
      "Epoch 00023: acc improved from 0.24970 to 0.27294, saving model to weights-improvement-23-0.27.hdf5\n",
      "28s - loss: 2.4799 - acc: 0.2929\n",
      "Epoch 25/50\n",
      "Epoch 00024: acc did not improve\n",
      "31s - loss: 2.4735 - acc: 0.2688\n",
      "Epoch 26/50\n",
      "Epoch 00025: acc improved from 0.27294 to 0.27950, saving model to weights-improvement-25-0.28.hdf5\n",
      "28s - loss: 2.3834 - acc: 0.2790\n",
      "Epoch 27/50\n",
      "Epoch 00026: acc improved from 0.27950 to 0.28367, saving model to weights-improvement-26-0.28.hdf5\n",
      "29s - loss: 2.3835 - acc: 0.2740\n",
      "Epoch 28/50\n",
      "Epoch 00027: acc improved from 0.28367 to 0.29738, saving model to weights-improvement-27-0.30.hdf5\n",
      "28s - loss: 2.3307 - acc: 0.2990\n",
      "Epoch 29/50\n",
      "Epoch 00028: acc improved from 0.29738 to 0.29983, saving model to weights-improvement-28-0.30.hdf5\n",
      "31s - loss: 2.2826 - acc: 0.2940\n",
      "Epoch 30/50\n",
      "Epoch 00029: acc improved from 0.29983 to 0.30215, saving model to weights-improvement-29-0.30.hdf5\n",
      "29s - loss: 2.2321 - acc: 0.2945\n",
      "Epoch 31/50\n",
      "Epoch 00030: acc improved from 0.30215 to 0.32002, saving model to weights-improvement-30-0.32.hdf5\n",
      "29s - loss: 2.1912 - acc: 0.3232\n",
      "Epoch 32/50\n",
      "Epoch 00031: acc did not improve\n",
      "31s - loss: 2.1372 - acc: 0.3200\n",
      "Epoch 33/50\n",
      "Epoch 00032: acc improved from 0.32002 to 0.32956, saving model to weights-improvement-32-0.33.hdf5\n",
      "29s - loss: 2.1794 - acc: 0.3271\n",
      "Epoch 34/50\n",
      "Epoch 00033: acc improved from 0.32956 to 0.33194, saving model to weights-improvement-33-0.33.hdf5\n",
      "29s - loss: 2.1346 - acc: 0.3161\n",
      "Epoch 35/50\n",
      "Epoch 00034: acc improved from 0.33194 to 0.33671, saving model to weights-improvement-34-0.34.hdf5\n",
      "28s - loss: 2.0986 - acc: 0.3312\n",
      "Epoch 36/50\n",
      "Epoch 00035: acc did not improve\n",
      "32s - loss: 2.0568 - acc: 0.3333\n",
      "Epoch 37/50\n",
      "Epoch 00036: acc improved from 0.33671 to 0.37068, saving model to weights-improvement-36-0.37.hdf5\n",
      "28s - loss: 1.9209 - acc: 0.3827\n",
      "Epoch 38/50\n",
      "Epoch 00037: acc did not improve\n",
      "29s - loss: 2.0357 - acc: 0.3570\n",
      "Epoch 39/50\n",
      "Epoch 00038: acc did not improve\n",
      "31s - loss: 1.9859 - acc: 0.3486\n",
      "Epoch 40/50\n",
      "Epoch 00039: acc did not improve\n",
      "29s - loss: 1.9565 - acc: 0.3774\n",
      "Epoch 41/50\n",
      "Epoch 00040: acc improved from 0.37068 to 0.37426, saving model to weights-improvement-40-0.37.hdf5\n",
      "28s - loss: 1.8744 - acc: 0.3923\n",
      "Epoch 42/50\n",
      "Epoch 00041: acc improved from 0.37426 to 0.37664, saving model to weights-improvement-41-0.38.hdf5\n",
      "29s - loss: 1.8588 - acc: 0.3879\n",
      "Epoch 43/50\n",
      "Epoch 00042: acc improved from 0.37664 to 0.38377, saving model to weights-improvement-42-0.38.hdf5\n",
      "31s - loss: 1.8467 - acc: 0.3878\n",
      "Epoch 44/50\n",
      "Epoch 00043: acc did not improve\n",
      "30s - loss: 1.9330 - acc: 0.3819\n",
      "Epoch 45/50\n",
      "Epoch 00044: acc did not improve\n",
      "28s - loss: 1.9196 - acc: 0.3716\n",
      "Epoch 46/50\n",
      "Epoch 00045: acc improved from 0.38377 to 0.40475, saving model to weights-improvement-45-0.40.hdf5\n",
      "32s - loss: 1.8191 - acc: 0.3988\n",
      "Epoch 47/50\n",
      "Epoch 00046: acc did not improve\n",
      "28s - loss: 1.7950 - acc: 0.3967\n",
      "Epoch 48/50\n",
      "Epoch 00047: acc did not improve\n",
      "29s - loss: 1.8173 - acc: 0.4136\n",
      "Epoch 49/50\n",
      "Epoch 00048: acc improved from 0.40475 to 0.41836, saving model to weights-improvement-48-0.42.hdf5\n",
      "28s - loss: 1.7117 - acc: 0.4308\n",
      "Epoch 50/50\n",
      "Epoch 00049: acc did not improve\n",
      "31s - loss: 1.7570 - acc: 0.4045\n"
     ]
    },
    {
     "data": {
      "text/plain": [
       "<keras.callbacks.History at 0x7f29ad949f98>"
      ]
     },
     "execution_count": 4,
     "metadata": {},
     "output_type": "execute_result"
    }
   ],
   "source": [
    "# checkpoint\n",
    "from keras.callbacks import ModelCheckpoint\n",
    "\n",
    "filepath=\"weights-improvement-{epoch:02d}-{acc:.2f}.hdf5\"\n",
    "checkpoint = ModelCheckpoint(filepath, monitor='acc', verbose=1, save_best_only=True,mode='auto')\n",
    "callbacks_list = [checkpoint]\n",
    "\n",
    "train_generator = datagen.flow_from_directory(\n",
    "        '/data/train',\n",
    "        target_size=(150, 150),\n",
    "        batch_size=162,\n",
    "        class_mode='categorical')\n",
    "\n",
    "\n",
    "model.fit_generator(\n",
    "        train_generator,\n",
    "        steps_per_epoch=2048 // 162,\n",
    "        epochs=50,\n",
    "        callbacks=callbacks_list,\n",
    "        verbose=2)"
   ]
  },
  {
   "cell_type": "code",
   "execution_count": 6,
   "metadata": {
    "collapsed": true
   },
   "outputs": [],
   "source": [
    "model.save_weights('first_try.h5')"
   ]
  },
  {
   "cell_type": "code",
   "execution_count": null,
   "metadata": {
    "collapsed": true
   },
   "outputs": [],
   "source": []
  }
 ],
 "metadata": {
  "kernelspec": {
   "display_name": "Python 3",
   "language": "python",
   "name": "python3"
  },
  "language_info": {
   "codemirror_mode": {
    "name": "ipython",
    "version": 3
   },
   "file_extension": ".py",
   "mimetype": "text/x-python",
   "name": "python",
   "nbconvert_exporter": "python",
   "pygments_lexer": "ipython3",
   "version": "3.5.3"
  },
  "varInspector": {
   "cols": {
    "lenName": 16,
    "lenType": 16,
    "lenVar": 40
   },
   "kernels_config": {
    "python": {
     "delete_cmd_postfix": "",
     "delete_cmd_prefix": "del ",
     "library": "var_list.py",
     "varRefreshCmd": "print(var_dic_list())"
    },
    "r": {
     "delete_cmd_postfix": ") ",
     "delete_cmd_prefix": "rm(",
     "library": "var_list.r",
     "varRefreshCmd": "cat(var_dic_list()) "
    }
   },
   "types_to_exclude": [
    "module",
    "function",
    "builtin_function_or_method",
    "instance",
    "_Feature"
   ],
   "window_display": false
  }
 },
 "nbformat": 4,
 "nbformat_minor": 2
}
