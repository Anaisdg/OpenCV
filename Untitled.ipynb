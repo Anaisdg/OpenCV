{
 "cells": [
  {
   "cell_type": "code",
   "execution_count": 1,
   "metadata": {
    "collapsed": true
   },
   "outputs": [],
   "source": [
    "import sys\n",
    "import numpy as np\n",
    "sys.path.insert(0, \"/usr/local/lib/python2.7/site-packages/\")\n",
    "import cv2"
   ]
  },
  {
   "cell_type": "code",
   "execution_count": 3,
   "metadata": {
    "collapsed": true
   },
   "outputs": [],
   "source": [
    "def rectify(h):\n",
    "  h = h.reshape((4,2))\n",
    "  hnew = np.zeros((4,2),dtype = np.float32)\n",
    "\n",
    "  add = h.sum(1)\n",
    "  hnew[0] = h[np.argmin(add)]\n",
    "  hnew[2] = h[np.argmax(add)]\n",
    "\n",
    "  diff = np.diff(h,axis = 1)\n",
    "  hnew[1] = h[np.argmin(diff)]\n",
    "  hnew[3] = h[np.argmax(diff)]\n",
    "\n",
    "  return hnew\n",
    "\n",
    "###############################################################################\n",
    "# Image Matching\n",
    "###############################################################################\n",
    "def preprocess(img):\n",
    "\n",
    "  gray = cv2.cvtColor(img,cv2.COLOR_BGR2GRAY)\n",
    "  blur = cv2.GaussianBlur(gray,(5,5),2 )\n",
    "  thresh = cv2.adaptiveThreshold(blur,255,1,1,11,1)\n",
    "  return thresh\n",
    "\n",
    "def imgdiff(img1,img2):\n",
    "  img1 = cv2.GaussianBlur(img1,(5,5),5)\n",
    "  img2 = cv2.GaussianBlur(img2,(5,5),5)\n",
    "  diff = cv2.absdiff(img1,img2)\n",
    "  diff = cv2.GaussianBlur(diff,(5,5),5)\n",
    "  flag, diff = cv2.threshold(diff, 200, 255, cv2.THRESH_BINARY)\n",
    "  return np.sum(diff)\n",
    "\n",
    "def find_closest_card(training,img):\n",
    "  features = preprocess(img)\n",
    "  return sorted(training.values(), key=lambda x:imgdiff(x[1],features))[0][0]\n",
    "\n",
    "\n",
    "###############################################################################\n",
    "# Card Extraction\n",
    "###############################################################################\n",
    "def getCards(im, numcards=4):\n",
    "  gray = cv2.cvtColor(im,cv2.COLOR_BGR2GRAY)\n",
    "  blur = cv2.GaussianBlur(gray,(1,1),1000)\n",
    "  flag, thresh = cv2.threshold(blur, 120, 255, cv2.THRESH_BINARY)\n",
    "\n",
    "  contours, hierarchy = cv2.findContours(thresh,cv2.RETR_TREE,cv2.CHAIN_APPROX_SIMPLE)\n",
    "\n",
    "  contours = sorted(contours, key=cv2.contourArea,reverse=True)[:numcards]\n",
    "\n",
    "  for card in contours:\n",
    "    peri = cv2.arcLength(card,True)\n",
    "    approx = rectify(cv2.approxPolyDP(card,0.02*peri,True))\n",
    "\n",
    "    box = np.int0(approx)\n",
    "    cv2.drawContours(im,[box],0,(255,255,0),6)\n",
    "    imx = cv2.resize(im,(1000,600))\n",
    "    cv2.imshow('a',imx)\n",
    "\n",
    "    h = np.array([ [0,0],[449,0],[449,449],[0,449] ],np.float32)\n",
    "\n",
    "    transform = cv2.getPerspectiveTransform(approx,h)\n",
    "    warp = cv2.warpPerspective(im,transform,(450,450))\n",
    "\n",
    "    yield warp\n",
    "\n",
    "\n",
    "def get_training(training_labels_filename,training_image_filename,num_training_cards,avoid_cards=None):\n",
    "      training = {}\n",
    "\n",
    "      labels = {}\n",
    "      for line in file(training_labels_filename):\n",
    "        key, num, suit = line.strip().split()\n",
    "        labels[int(key)] = (num,suit)\n",
    "\n",
    "      print (\"Training\")\n",
    "\n",
    "      im = cv2.imread(training_image_filename)\n",
    "      for i,c in enumerate(getCards(im,num_training_cards)):\n",
    "        if avoid_cards is None or (labels[i][0] not in avoid_cards[0] and labels[i][1] not in avoid_cards[1]):\n",
    "          training[i] = (labels[i], preprocess(c))\n",
    "\n",
    "      print (\"Done training\")\n",
    "      return training\n"
   ]
  },
  {
   "cell_type": "code",
   "execution_count": 5,
   "metadata": {},
   "outputs": [
    {
     "ename": "NameError",
     "evalue": "name 'file' is not defined",
     "output_type": "error",
     "traceback": [
      "\u001b[1;31m---------------------------------------------------------------------------\u001b[0m",
      "\u001b[1;31mNameError\u001b[0m                                 Traceback (most recent call last)",
      "\u001b[1;32m<ipython-input-5-1f2718e59f77>\u001b[0m in \u001b[0;36m<module>\u001b[1;34m()\u001b[0m\n\u001b[0;32m      8\u001b[0m     \u001b[0mnum_training_cards\u001b[0m \u001b[1;33m=\u001b[0m \u001b[1;36m56\u001b[0m\u001b[1;33m\u001b[0m\u001b[0m\n\u001b[0;32m      9\u001b[0m \u001b[1;33m\u001b[0m\u001b[0m\n\u001b[1;32m---> 10\u001b[1;33m     \u001b[0mtraining\u001b[0m \u001b[1;33m=\u001b[0m \u001b[0mget_training\u001b[0m\u001b[1;33m(\u001b[0m\u001b[0mtraining_labels_filename\u001b[0m\u001b[1;33m,\u001b[0m\u001b[0mtraining_image_filename\u001b[0m\u001b[1;33m,\u001b[0m\u001b[0mnum_training_cards\u001b[0m\u001b[1;33m)\u001b[0m\u001b[1;33m\u001b[0m\u001b[0m\n\u001b[0m\u001b[0;32m     11\u001b[0m \u001b[1;33m\u001b[0m\u001b[0m\n\u001b[0;32m     12\u001b[0m     \u001b[0mim\u001b[0m \u001b[1;33m=\u001b[0m \u001b[0mcv2\u001b[0m\u001b[1;33m.\u001b[0m\u001b[0mimread\u001b[0m\u001b[1;33m(\u001b[0m\u001b[0mfilename\u001b[0m\u001b[1;33m)\u001b[0m\u001b[1;33m\u001b[0m\u001b[0m\n",
      "\u001b[1;32m<ipython-input-3-b2d2f8c281af>\u001b[0m in \u001b[0;36mget_training\u001b[1;34m(training_labels_filename, training_image_filename, num_training_cards, avoid_cards)\u001b[0m\n\u001b[0;32m     69\u001b[0m \u001b[1;33m\u001b[0m\u001b[0m\n\u001b[0;32m     70\u001b[0m       \u001b[0mlabels\u001b[0m \u001b[1;33m=\u001b[0m \u001b[1;33m{\u001b[0m\u001b[1;33m}\u001b[0m\u001b[1;33m\u001b[0m\u001b[0m\n\u001b[1;32m---> 71\u001b[1;33m       \u001b[1;32mfor\u001b[0m \u001b[0mline\u001b[0m \u001b[1;32min\u001b[0m \u001b[0mfile\u001b[0m\u001b[1;33m(\u001b[0m\u001b[0mtraining_labels_filename\u001b[0m\u001b[1;33m)\u001b[0m\u001b[1;33m:\u001b[0m\u001b[1;33m\u001b[0m\u001b[0m\n\u001b[0m\u001b[0;32m     72\u001b[0m         \u001b[0mkey\u001b[0m\u001b[1;33m,\u001b[0m \u001b[0mnum\u001b[0m\u001b[1;33m,\u001b[0m \u001b[0msuit\u001b[0m \u001b[1;33m=\u001b[0m \u001b[0mline\u001b[0m\u001b[1;33m.\u001b[0m\u001b[0mstrip\u001b[0m\u001b[1;33m(\u001b[0m\u001b[1;33m)\u001b[0m\u001b[1;33m.\u001b[0m\u001b[0msplit\u001b[0m\u001b[1;33m(\u001b[0m\u001b[1;33m)\u001b[0m\u001b[1;33m\u001b[0m\u001b[0m\n\u001b[0;32m     73\u001b[0m         \u001b[0mlabels\u001b[0m\u001b[1;33m[\u001b[0m\u001b[0mint\u001b[0m\u001b[1;33m(\u001b[0m\u001b[0mkey\u001b[0m\u001b[1;33m)\u001b[0m\u001b[1;33m]\u001b[0m \u001b[1;33m=\u001b[0m \u001b[1;33m(\u001b[0m\u001b[0mnum\u001b[0m\u001b[1;33m,\u001b[0m\u001b[0msuit\u001b[0m\u001b[1;33m)\u001b[0m\u001b[1;33m\u001b[0m\u001b[0m\n",
      "\u001b[1;31mNameError\u001b[0m: name 'file' is not defined"
     ]
    }
   ],
   "source": [
    "\n",
    "if __name__ == '__main__':\n",
    "\n",
    "    filename = \"/Users/anais/Desktop/Playing-Card-Recognition/test.jpg\"\n",
    "    num_cards = 4\n",
    "    training_image_filename = \"/Users/anais/Desktop/Playing-Card-Recognition/train2.png\"\n",
    "    training_labels_filename = \"/Users/anais/Desktop/Playing-Card-Recognition/train.tsv\"\n",
    "    num_training_cards = 56\n",
    "\n",
    "    training = get_training(training_labels_filename,training_image_filename,num_training_cards)\n",
    "\n",
    "    im = cv2.imread(filename)\n",
    "    preprocess(im)\n",
    "\n",
    "    width = im.shape[0]\n",
    "    height = im.shape[1]\n",
    "    if width < height:\n",
    "      im = cv2.transpose(im)\n",
    "      im = cv2.flip(im,1)\n",
    "\n",
    "    # Debug: uncomment to see registered images\n",
    "    for i,c in enumerate(getCards(im,num_cards)):\n",
    "      card = find_closest_card(training,c,)\n",
    "      cv2.imshow(str(card),c)\n",
    "    cv2.waitKey(0)\n",
    "\n",
    "    cards = [find_closest_card(training,c) for c in getCards(im,num_cards)]\n",
    "    print (cards)\n"
   ]
  },
  {
   "cell_type": "code",
   "execution_count": null,
   "metadata": {
    "collapsed": true
   },
   "outputs": [],
   "source": []
  }
 ],
 "metadata": {
  "kernelspec": {
   "display_name": "Python 3",
   "language": "python",
   "name": "python3"
  },
  "language_info": {
   "codemirror_mode": {
    "name": "ipython",
    "version": 3
   },
   "file_extension": ".py",
   "mimetype": "text/x-python",
   "name": "python",
   "nbconvert_exporter": "python",
   "pygments_lexer": "ipython3",
   "version": "3.6.3"
  }
 },
 "nbformat": 4,
 "nbformat_minor": 2
}
