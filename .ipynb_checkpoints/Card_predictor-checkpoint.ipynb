{
 "cells": [
  {
   "cell_type": "code",
   "execution_count": 41,
   "metadata": {},
   "outputs": [],
   "source": [
    "import keras\n",
    "from keras.preprocessing import image\n",
    "from keras.applications.xception import (Xception, preprocess_input, decode_predictions)\n",
    "from keras import models\n",
    "from keras.models import load_model\n",
    "from keras.models import Sequential\n",
    "from keras.layers import Conv2D, MaxPooling2D\n",
    "from keras.layers import Activation, Dropout, Flatten, Dense\n",
    "\n",
    "import numpy as np\n",
    "import pandas as pd\n",
    "import os\n",
    "\n",
    "class_list = ['1DGE',\n",
    " '1DGF',\n",
    " '1DGS',\n",
    " '1DPE',\n",
    " '1DPF',\n",
    " '1DPS',\n",
    " '1DRE',\n",
    " '1DRF',\n",
    " '1DRS',\n",
    " '1OGE',\n",
    " '1OGF',\n",
    " '1OGS',\n",
    " '1OPE',\n",
    " '1OPF',\n",
    " '1OPS',\n",
    " '1ORE',\n",
    " '1ORF',\n",
    " '1ORS',\n",
    " '1SGE',\n",
    " '1SGF',\n",
    " '1SGS',\n",
    " '1SPE',\n",
    " '1SPF',\n",
    " '1SPS',\n",
    " '1SRE',\n",
    " '1SRF',\n",
    " '1SRS',\n",
    " '2DGE',\n",
    " '2DGF',\n",
    " '2DGS',\n",
    " '2DPE',\n",
    " '2DPF',\n",
    " '2DPS',\n",
    " '2DRE',\n",
    " '2DRF',\n",
    " '2DRS',\n",
    " '2OGE',\n",
    " '2OGF',\n",
    " '2OGS',\n",
    " '2OPE',\n",
    " '2OPF',\n",
    " '2OPS',\n",
    " '2ORE',\n",
    " '2ORF',\n",
    " '2ORS',\n",
    " '2SGE',\n",
    " '2SGF',\n",
    " '2SGS',\n",
    " '2SPE',\n",
    " '2SPF',\n",
    " '2SPS',\n",
    " '2SRE',\n",
    " '2SRF',\n",
    " '2SRS',\n",
    " '3DGE',\n",
    " '3DGF',\n",
    " '3DGS',\n",
    " '3DPE',\n",
    " '3DPF',\n",
    " '3DPS',\n",
    " '3DRE',\n",
    " '3DRF',\n",
    " '3DRS',\n",
    " '3OGE',\n",
    " '3OGF',\n",
    " '3OGS',\n",
    " '3OPE',\n",
    " '3OPF',\n",
    " '3OPS',\n",
    " '3ORE',\n",
    " '3ORF',\n",
    " '3ORS',\n",
    " '3SGE',\n",
    " '3SGF',\n",
    " '3SGS',\n",
    " '3SPE',\n",
    " '3SPF',\n",
    " '3SPS',\n",
    " '3SRE',\n",
    " '3SRF',\n",
    " '3SRS']\n",
    "\n",
    "model_path = 'static/model/first_try.h5'\n",
    "image_size = (150, 150)\n",
    "folderpath = 'static/images/cropped'\n",
    "\n",
    "#Create Model and Load Weights\n",
    "\n",
    "model = Sequential()\n",
    "model.add(Conv2D(32, (3, 3), input_shape=(150, 150, 3)))\n",
    "model.add(Activation('relu'))\n",
    "model.add(MaxPooling2D(pool_size=(2, 2)))\n",
    "\n",
    "model.add(Conv2D(32, (3, 3)))\n",
    "model.add(Activation('relu'))\n",
    "model.add(MaxPooling2D(pool_size=(2, 2)))\n",
    "\n",
    "model.add(Conv2D(64, (3, 3)))\n",
    "model.add(Activation('relu'))\n",
    "model.add(MaxPooling2D(pool_size=(2, 2)))\n",
    "\n",
    "model.add(Flatten())\n",
    "model.add(Dense(64))\n",
    "model.add(Activation('relu'))\n",
    "model.add(Dropout(0.5))\n",
    "model.add(Dense(81))\n",
    "model.add(Activation('softmax'))\n",
    "\n",
    "model.compile(loss='categorical_crossentropy',\n",
    "              optimizer='adam',\n",
    "              metrics=['accuracy'])\n",
    "\n",
    "model.load_weights(model_path)\n",
    "\n",
    "# Predict the image\n",
    "\n",
    "def predictor(image_path):\n",
    "    img = image.load_img(image_path, target_size=image_size)\n",
    "    x = image.img_to_array(img)\n",
    "    # print(x.shape)\n",
    "    x = np.expand_dims(x, axis=0)\n",
    "    x = preprocess_input(x)\n",
    "    predictions = model.predict(x)\n",
    "    # print(max(predictions[0]))\n",
    "    list_a = predictions[0]\n",
    "    list_b = class_list\n",
    "    \n",
    "    zip_test = list(zip(list_a, list_b))\n",
    "   \n",
    "    return max(zip_test)\n",
    "\n",
    "def find_cropped_images(folderpath):\n",
    "    return [folderpath + '/' + v for v in os.listdir(folderpath) if v != '.DS_Store']\n",
    "\n",
    "def prediction_tuples():\n",
    "    predictions = [predictor(png) for png in find_cropped_images(folderpath)]\n",
    "#     images = find_cropped_images(folderpath)\n",
    "#     new_predictions = list(zip(predictions,images))\n",
    "    return predictions\n",
    "\n",
    "cards = prediction_tuples()\n"
   ]
  },
  {
   "cell_type": "code",
   "execution_count": 42,
   "metadata": {},
   "outputs": [
    {
     "data": {
      "text/plain": [
       "[(0.37403059, '2SGS'),\n",
       " (0.46839303, '2DPE'),\n",
       " (0.70509261, '3OPS'),\n",
       " (0.87207615, '3DRE'),\n",
       " (0.89094347, '1ORF'),\n",
       " (0.70441371, '3SPF'),\n",
       " (0.98993486, '1DGF'),\n",
       " (0.995691, '2DRF'),\n",
       " (0.44429138, '1DPE'),\n",
       " (0.4271352, '1SRS'),\n",
       " (0.99700952, '3OGS'),\n",
       " (0.96586657, '1ORE')]"
      ]
     },
     "execution_count": 42,
     "metadata": {},
     "output_type": "execute_result"
    }
   ],
   "source": [
    "cards"
   ]
  },
  {
   "cell_type": "code",
   "execution_count": 54,
   "metadata": {
    "collapsed": true
   },
   "outputs": [],
   "source": [
    "\n",
    "\n",
    "def unpack_result(cards):\n",
    "    predictions = []\n",
    "    for card in cards:\n",
    "        predictions.append(list(card[1]))\n",
    "    \n",
    "    board = {}\n",
    "    for i in range(0,len(cards)):\n",
    "        board[i] ={'number':predictions[i][0],\n",
    "                   'shape':predictions[i][1],\n",
    "                   'color':predictions[i][2],\n",
    "                   'shading':predictions[i][3]}\n",
    "   \n",
    "    return board"
   ]
  },
  {
   "cell_type": "code",
   "execution_count": 52,
   "metadata": {},
   "outputs": [
    {
     "name": "stdout",
     "output_type": "stream",
     "text": [
      "[['2', 'S', 'G', 'S'], ['2', 'D', 'P', 'E'], ['3', 'O', 'P', 'S'], ['3', 'D', 'R', 'E'], ['1', 'O', 'R', 'F'], ['3', 'S', 'P', 'F'], ['1', 'D', 'G', 'F'], ['2', 'D', 'R', 'F'], ['1', 'D', 'P', 'E'], ['1', 'S', 'R', 'S'], ['3', 'O', 'G', 'S'], ['1', 'O', 'R', 'E']]\n"
     ]
    }
   ],
   "source": [
    "predictions = []\n",
    "for card in cards:\n",
    "    predictions.append(list(card[1]))\n",
    "print(predictions)"
   ]
  },
  {
   "cell_type": "code",
   "execution_count": 55,
   "metadata": {},
   "outputs": [
    {
     "data": {
      "text/plain": [
       "{0: {'color': 'G', 'number': '2', 'shading': 'S', 'shape': 'S'},\n",
       " 1: {'color': 'P', 'number': '2', 'shading': 'E', 'shape': 'D'},\n",
       " 2: {'color': 'P', 'number': '3', 'shading': 'S', 'shape': 'O'},\n",
       " 3: {'color': 'R', 'number': '3', 'shading': 'E', 'shape': 'D'},\n",
       " 4: {'color': 'R', 'number': '1', 'shading': 'F', 'shape': 'O'},\n",
       " 5: {'color': 'P', 'number': '3', 'shading': 'F', 'shape': 'S'},\n",
       " 6: {'color': 'G', 'number': '1', 'shading': 'F', 'shape': 'D'},\n",
       " 7: {'color': 'R', 'number': '2', 'shading': 'F', 'shape': 'D'},\n",
       " 8: {'color': 'P', 'number': '1', 'shading': 'E', 'shape': 'D'},\n",
       " 9: {'color': 'R', 'number': '1', 'shading': 'S', 'shape': 'S'},\n",
       " 10: {'color': 'G', 'number': '3', 'shading': 'S', 'shape': 'O'},\n",
       " 11: {'color': 'R', 'number': '1', 'shading': 'E', 'shape': 'O'}}"
      ]
     },
     "execution_count": 55,
     "metadata": {},
     "output_type": "execute_result"
    }
   ],
   "source": [
    "unpack_dict(cards)"
   ]
  },
  {
   "cell_type": "code",
   "execution_count": null,
   "metadata": {
    "collapsed": true
   },
   "outputs": [],
   "source": []
  }
 ],
 "metadata": {
  "kernelspec": {
   "display_name": "Python 3",
   "language": "python",
   "name": "python3"
  },
  "language_info": {
   "codemirror_mode": {
    "name": "ipython",
    "version": 3
   },
   "file_extension": ".py",
   "mimetype": "text/x-python",
   "name": "python",
   "nbconvert_exporter": "python",
   "pygments_lexer": "ipython3",
   "version": "3.6.3"
  }
 },
 "nbformat": 4,
 "nbformat_minor": 2
}
