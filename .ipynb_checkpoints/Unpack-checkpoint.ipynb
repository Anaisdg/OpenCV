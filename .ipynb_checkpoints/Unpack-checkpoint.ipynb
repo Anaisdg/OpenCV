{
 "cells": [
  {
   "cell_type": "code",
   "execution_count": 42,
   "metadata": {},
   "outputs": [],
   "source": [
    "test_list = [['1','D','R','S'],['2','D','P','E']]"
   ]
  },
  {
   "cell_type": "code",
   "execution_count": 48,
   "metadata": {},
   "outputs": [],
   "source": [
    "for single_list in test_list:\n",
    "   \n",
    "    test_dict = {\n",
    "    \"number\":single_list[0],\n",
    "    \"shape\":single_list[1],\n",
    "    \"color\":single_list[2],\n",
    "    \"shading\":single_list[3]\n",
    "    }\n",
    "    "
   ]
  },
  {
   "cell_type": "code",
   "execution_count": 34,
   "metadata": {},
   "outputs": [
    {
     "ename": "SyntaxError",
     "evalue": "invalid syntax (<ipython-input-34-2993ea10ab63>, line 1)",
     "output_type": "error",
     "traceback": [
      "\u001b[1;36m  File \u001b[1;32m\"<ipython-input-34-2993ea10ab63>\"\u001b[1;36m, line \u001b[1;32m1\u001b[0m\n\u001b[1;33m    characters def list_to_dict(li):\u001b[0m\n\u001b[1;37m                 ^\u001b[0m\n\u001b[1;31mSyntaxError\u001b[0m\u001b[1;31m:\u001b[0m invalid syntax\n"
     ]
    }
   ],
   "source": [
    "\n",
    "test_dict = {\n",
    "    \"number\":test_list[0],\n",
    "    \"shape\":test_list[1],\n",
    "    \"color\":test_list[2],\n",
    "    \"shading\":test_list[3]\n",
    "}\n",
    "\n",
    "test_dict"
   ]
  },
  {
   "cell_type": "code",
   "execution_count": null,
   "metadata": {
    "collapsed": true
   },
   "outputs": [],
   "source": []
  }
 ],
 "metadata": {
  "kernelspec": {
   "display_name": "Python 3",
   "language": "python",
   "name": "python3"
  },
  "language_info": {
   "codemirror_mode": {
    "name": "ipython",
    "version": 3
   },
   "file_extension": ".py",
   "mimetype": "text/x-python",
   "name": "python",
   "nbconvert_exporter": "python",
   "pygments_lexer": "ipython3",
   "version": "3.6.3"
  }
 },
 "nbformat": 4,
 "nbformat_minor": 2
}
