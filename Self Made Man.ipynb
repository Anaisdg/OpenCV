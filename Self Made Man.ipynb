{
 "cells": [
  {
   "cell_type": "code",
   "execution_count": 1,
   "metadata": {},
   "outputs": [],
   "source": [
    "import sys\n",
    "import numpy as np\n",
    "import cv2\n",
    "import PIL \n",
    "from matplotlib import pyplot as plt\n",
    "from mpl_toolkits.axes_grid1 import ImageGrid\n",
    "import math\n",
    "%matplotlib inline"
   ]
  },
  {
   "cell_type": "code",
   "execution_count": 6,
   "metadata": {},
   "outputs": [],
   "source": [
    "img = cv2.imread(\"Image2.jpg\")\n",
    "img2 = cv2.cvtColor(img,cv2.COLOR_BGR2HSV)"
   ]
  },
  {
   "cell_type": "code",
   "execution_count": 4,
   "metadata": {},
   "outputs": [],
   "source": [
    "r = img2[:,:,0]\n",
    "g = img2[:,:,1]\n",
    "b = img2[:,:,2]"
   ]
  },
  {
   "cell_type": "code",
   "execution_count": 7,
   "metadata": {},
   "outputs": [
    {
     "data": {
      "text/plain": [
       "array([[[ 21,  50, 138],\n",
       "        [ 21,  40, 172],\n",
       "        [ 21,  34, 203],\n",
       "        ...,\n",
       "        [ 15,  23, 201],\n",
       "        [ 15,  26, 177],\n",
       "        [ 15,  32, 143]],\n",
       "\n",
       "       [[ 21,  38, 181],\n",
       "        [ 21,  33, 207],\n",
       "        [ 21,  33, 211],\n",
       "        ...,\n",
       "        [ 15,  21, 215],\n",
       "        [ 15,  23, 199],\n",
       "        [ 15,  27, 173]],\n",
       "\n",
       "       [[ 21,  35, 195],\n",
       "        [ 21,  31, 222],\n",
       "        [ 21,  32, 213],\n",
       "        ...,\n",
       "        [ 17,  21, 226],\n",
       "        [ 15,  21, 218],\n",
       "        [ 15,  23, 202]],\n",
       "\n",
       "       ...,\n",
       "\n",
       "       [[ 21,  28, 206],\n",
       "        [ 21,  29, 204],\n",
       "        [ 21,  28, 211],\n",
       "        ...,\n",
       "        [ 15,  26, 235],\n",
       "        [ 15,  27, 229],\n",
       "        [ 15,  28, 222]],\n",
       "\n",
       "       [[ 21,  32, 186],\n",
       "        [ 21,  32, 182],\n",
       "        [ 21,  31, 190],\n",
       "        ...,\n",
       "        [ 15,  26, 233],\n",
       "        [ 15,  28, 220],\n",
       "        [ 15,  31, 197]],\n",
       "\n",
       "       [[ 21,  42, 141],\n",
       "        [ 21,  43, 137],\n",
       "        [ 21,  40, 147],\n",
       "        ...,\n",
       "        [ 15,  27, 227],\n",
       "        [ 15,  30, 205],\n",
       "        [ 15,  36, 169]]], dtype=uint8)"
      ]
     },
     "execution_count": 7,
     "metadata": {},
     "output_type": "execute_result"
    }
   ],
   "source": [
    "img2"
   ]
  },
  {
   "cell_type": "code",
   "execution_count": null,
   "metadata": {},
   "outputs": [],
   "source": []
  }
 ],
 "metadata": {
  "kernelspec": {
   "display_name": "Python 3",
   "language": "python",
   "name": "python3"
  },
  "language_info": {
   "codemirror_mode": {
    "name": "ipython",
    "version": 3
   },
   "file_extension": ".py",
   "mimetype": "text/x-python",
   "name": "python",
   "nbconvert_exporter": "python",
   "pygments_lexer": "ipython3",
   "version": "3.6.4"
  }
 },
 "nbformat": 4,
 "nbformat_minor": 2
}
